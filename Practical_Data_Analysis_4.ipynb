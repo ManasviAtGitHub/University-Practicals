{
  "nbformat": 4,
  "nbformat_minor": 0,
  "metadata": {
    "colab": {
      "name": "Practical Data Analysis 4.ipynb",
      "provenance": []
    },
    "kernelspec": {
      "name": "python3",
      "display_name": "Python 3"
    },
    "language_info": {
      "name": "python"
    },
    "accelerator": "GPU"
  },
  "cells": [
    {
      "cell_type": "code",
      "metadata": {
        "colab": {
          "base_uri": "https://localhost:8080/"
        },
        "id": "3nVoUPqmvWeI",
        "outputId": "a216ad6e-712e-4c36-8f51-b24cf9880158"
      },
      "source": [
        "from google.colab import drive\n",
        "drive.mount('/content/drive/')"
      ],
      "execution_count": null,
      "outputs": [
        {
          "output_type": "stream",
          "text": [
            "Mounted at /content/drive/\n"
          ],
          "name": "stdout"
        }
      ]
    },
    {
      "cell_type": "code",
      "metadata": {
        "colab": {
          "base_uri": "https://localhost:8080/"
        },
        "id": "CX2MNvYnwUgE",
        "outputId": "218311a1-c217-4482-8af4-faced0fe75f4"
      },
      "source": [
        "cd drive/MyDrive/Datasets/"
      ],
      "execution_count": null,
      "outputs": [
        {
          "output_type": "stream",
          "text": [
            "/content/drive/MyDrive/Datasets\n"
          ],
          "name": "stdout"
        }
      ]
    },
    {
      "cell_type": "code",
      "metadata": {
        "colab": {
          "base_uri": "https://localhost:8080/"
        },
        "id": "_qok24zKxnv5",
        "outputId": "a4ee8918-1e32-46d4-f1f7-5f7dbc95754f"
      },
      "source": [
        "!pip install scikit-plot"
      ],
      "execution_count": null,
      "outputs": [
        {
          "output_type": "stream",
          "text": [
            "Collecting scikit-plot\n",
            "  Downloading https://files.pythonhosted.org/packages/7c/47/32520e259340c140a4ad27c1b97050dd3254fdc517b1d59974d47037510e/scikit_plot-0.3.7-py3-none-any.whl\n",
            "Requirement already satisfied: scikit-learn>=0.18 in /usr/local/lib/python3.7/dist-packages (from scikit-plot) (0.22.2.post1)\n",
            "Requirement already satisfied: scipy>=0.9 in /usr/local/lib/python3.7/dist-packages (from scikit-plot) (1.4.1)\n",
            "Requirement already satisfied: matplotlib>=1.4.0 in /usr/local/lib/python3.7/dist-packages (from scikit-plot) (3.2.2)\n",
            "Requirement already satisfied: joblib>=0.10 in /usr/local/lib/python3.7/dist-packages (from scikit-plot) (1.0.1)\n",
            "Requirement already satisfied: numpy>=1.11.0 in /usr/local/lib/python3.7/dist-packages (from scikit-learn>=0.18->scikit-plot) (1.19.5)\n",
            "Requirement already satisfied: kiwisolver>=1.0.1 in /usr/local/lib/python3.7/dist-packages (from matplotlib>=1.4.0->scikit-plot) (1.3.1)\n",
            "Requirement already satisfied: cycler>=0.10 in /usr/local/lib/python3.7/dist-packages (from matplotlib>=1.4.0->scikit-plot) (0.10.0)\n",
            "Requirement already satisfied: pyparsing!=2.0.4,!=2.1.2,!=2.1.6,>=2.0.1 in /usr/local/lib/python3.7/dist-packages (from matplotlib>=1.4.0->scikit-plot) (2.4.7)\n",
            "Requirement already satisfied: python-dateutil>=2.1 in /usr/local/lib/python3.7/dist-packages (from matplotlib>=1.4.0->scikit-plot) (2.8.1)\n",
            "Requirement already satisfied: six in /usr/local/lib/python3.7/dist-packages (from cycler>=0.10->matplotlib>=1.4.0->scikit-plot) (1.15.0)\n",
            "Installing collected packages: scikit-plot\n",
            "Successfully installed scikit-plot-0.3.7\n"
          ],
          "name": "stdout"
        }
      ]
    },
    {
      "cell_type": "code",
      "metadata": {
        "id": "Hp-G8qzPxque"
      },
      "source": [
        ""
      ],
      "execution_count": null,
      "outputs": []
    },
    {
      "cell_type": "code",
      "metadata": {
        "id": "fuRHaBTAwVki"
      },
      "source": [
        "import pandas as pd\n",
        "import numpy as np\n",
        "from sklearn import tree,svm\n",
        "from sklearn.model_selection import train_test_split, GridSearchCV\n",
        "from sklearn.tree import DecisionTreeClassifier\n",
        "from matplotlib import pyplot as plt\n",
        "import seaborn as sns\n",
        "import graphviz\n",
        "from sklearn.tree import export_graphviz\n",
        "from sklearn.metrics import classification_report, confusion_matrix, accuracy_score,roc_curve,auc,recall_score,precision_score\n",
        "from sklearn.ensemble import RandomForestClassifier\n",
        "import scikitplot as skplt\n",
        "%matplotlib inline"
      ],
      "execution_count": null,
      "outputs": []
    },
    {
      "cell_type": "code",
      "metadata": {
        "id": "A3UG4UX6wr3r"
      },
      "source": [
        ""
      ],
      "execution_count": null,
      "outputs": []
    },
    {
      "cell_type": "code",
      "metadata": {
        "colab": {
          "base_uri": "https://localhost:8080/",
          "height": 204
        },
        "id": "gOjZiwG6wr6L",
        "outputId": "b18b5845-62fc-4d21-9ffc-cbb8a783903f"
      },
      "source": [
        "data = pd.read_csv('spotify_data.csv')\n",
        "data.head()"
      ],
      "execution_count": null,
      "outputs": [
        {
          "output_type": "execute_result",
          "data": {
            "text/html": [
              "<div>\n",
              "<style scoped>\n",
              "    .dataframe tbody tr th:only-of-type {\n",
              "        vertical-align: middle;\n",
              "    }\n",
              "\n",
              "    .dataframe tbody tr th {\n",
              "        vertical-align: top;\n",
              "    }\n",
              "\n",
              "    .dataframe thead th {\n",
              "        text-align: right;\n",
              "    }\n",
              "</style>\n",
              "<table border=\"1\" class=\"dataframe\">\n",
              "  <thead>\n",
              "    <tr style=\"text-align: right;\">\n",
              "      <th></th>\n",
              "      <th>Unnamed: 0</th>\n",
              "      <th>acousticness</th>\n",
              "      <th>danceability</th>\n",
              "      <th>duration_ms</th>\n",
              "      <th>energy</th>\n",
              "      <th>instrumentalness</th>\n",
              "      <th>key</th>\n",
              "      <th>liveness</th>\n",
              "      <th>loudness</th>\n",
              "      <th>mode</th>\n",
              "      <th>speechiness</th>\n",
              "      <th>tempo</th>\n",
              "      <th>time_signature</th>\n",
              "      <th>valence</th>\n",
              "      <th>target</th>\n",
              "      <th>song_title</th>\n",
              "      <th>artist</th>\n",
              "    </tr>\n",
              "  </thead>\n",
              "  <tbody>\n",
              "    <tr>\n",
              "      <th>0</th>\n",
              "      <td>0</td>\n",
              "      <td>0.0102</td>\n",
              "      <td>0.833</td>\n",
              "      <td>204600</td>\n",
              "      <td>0.434</td>\n",
              "      <td>0.021900</td>\n",
              "      <td>2</td>\n",
              "      <td>0.1650</td>\n",
              "      <td>-8.795</td>\n",
              "      <td>1</td>\n",
              "      <td>0.4310</td>\n",
              "      <td>150.062</td>\n",
              "      <td>4.0</td>\n",
              "      <td>0.286</td>\n",
              "      <td>1</td>\n",
              "      <td>Mask Off</td>\n",
              "      <td>Future</td>\n",
              "    </tr>\n",
              "    <tr>\n",
              "      <th>1</th>\n",
              "      <td>1</td>\n",
              "      <td>0.1990</td>\n",
              "      <td>0.743</td>\n",
              "      <td>326933</td>\n",
              "      <td>0.359</td>\n",
              "      <td>0.006110</td>\n",
              "      <td>1</td>\n",
              "      <td>0.1370</td>\n",
              "      <td>-10.401</td>\n",
              "      <td>1</td>\n",
              "      <td>0.0794</td>\n",
              "      <td>160.083</td>\n",
              "      <td>4.0</td>\n",
              "      <td>0.588</td>\n",
              "      <td>1</td>\n",
              "      <td>Redbone</td>\n",
              "      <td>Childish Gambino</td>\n",
              "    </tr>\n",
              "    <tr>\n",
              "      <th>2</th>\n",
              "      <td>2</td>\n",
              "      <td>0.0344</td>\n",
              "      <td>0.838</td>\n",
              "      <td>185707</td>\n",
              "      <td>0.412</td>\n",
              "      <td>0.000234</td>\n",
              "      <td>2</td>\n",
              "      <td>0.1590</td>\n",
              "      <td>-7.148</td>\n",
              "      <td>1</td>\n",
              "      <td>0.2890</td>\n",
              "      <td>75.044</td>\n",
              "      <td>4.0</td>\n",
              "      <td>0.173</td>\n",
              "      <td>1</td>\n",
              "      <td>Xanny Family</td>\n",
              "      <td>Future</td>\n",
              "    </tr>\n",
              "    <tr>\n",
              "      <th>3</th>\n",
              "      <td>3</td>\n",
              "      <td>0.6040</td>\n",
              "      <td>0.494</td>\n",
              "      <td>199413</td>\n",
              "      <td>0.338</td>\n",
              "      <td>0.510000</td>\n",
              "      <td>5</td>\n",
              "      <td>0.0922</td>\n",
              "      <td>-15.236</td>\n",
              "      <td>1</td>\n",
              "      <td>0.0261</td>\n",
              "      <td>86.468</td>\n",
              "      <td>4.0</td>\n",
              "      <td>0.230</td>\n",
              "      <td>1</td>\n",
              "      <td>Master Of None</td>\n",
              "      <td>Beach House</td>\n",
              "    </tr>\n",
              "    <tr>\n",
              "      <th>4</th>\n",
              "      <td>4</td>\n",
              "      <td>0.1800</td>\n",
              "      <td>0.678</td>\n",
              "      <td>392893</td>\n",
              "      <td>0.561</td>\n",
              "      <td>0.512000</td>\n",
              "      <td>5</td>\n",
              "      <td>0.4390</td>\n",
              "      <td>-11.648</td>\n",
              "      <td>0</td>\n",
              "      <td>0.0694</td>\n",
              "      <td>174.004</td>\n",
              "      <td>4.0</td>\n",
              "      <td>0.904</td>\n",
              "      <td>1</td>\n",
              "      <td>Parallel Lines</td>\n",
              "      <td>Junior Boys</td>\n",
              "    </tr>\n",
              "  </tbody>\n",
              "</table>\n",
              "</div>"
            ],
            "text/plain": [
              "   Unnamed: 0  acousticness  ...      song_title            artist\n",
              "0           0        0.0102  ...        Mask Off            Future\n",
              "1           1        0.1990  ...         Redbone  Childish Gambino\n",
              "2           2        0.0344  ...    Xanny Family            Future\n",
              "3           3        0.6040  ...  Master Of None       Beach House\n",
              "4           4        0.1800  ...  Parallel Lines       Junior Boys\n",
              "\n",
              "[5 rows x 17 columns]"
            ]
          },
          "metadata": {
            "tags": []
          },
          "execution_count": 6
        }
      ]
    },
    {
      "cell_type": "code",
      "metadata": {
        "id": "AUS8HD-TyJmJ"
      },
      "source": [
        "train, test = train_test_split(data, test_size =0.25)"
      ],
      "execution_count": null,
      "outputs": []
    },
    {
      "cell_type": "code",
      "metadata": {
        "id": "xXckX_xByJ0R"
      },
      "source": [
        "features = ['tempo', 'danceability', 'duration_ms', \n",
        "            'loudness', 'speechiness', 'valence', \n",
        "            'energy', 'acousticness', 'key', \n",
        "            'instrumentalness'] "
      ],
      "execution_count": null,
      "outputs": []
    },
    {
      "cell_type": "code",
      "metadata": {
        "id": "jpYncTYFyKAh"
      },
      "source": [
        "X_train = train[features]\n",
        "y_train = train[\"target\"]\n",
        "\n",
        "X_test = test[features]\n",
        "y_test = test[\"target\"]"
      ],
      "execution_count": null,
      "outputs": []
    },
    {
      "cell_type": "code",
      "metadata": {
        "colab": {
          "base_uri": "https://localhost:8080/",
          "height": 204
        },
        "id": "4o6qjyVTHFpR",
        "outputId": "8346131b-178e-4394-9454-12c9b0857afb"
      },
      "source": [
        "X_train.head()"
      ],
      "execution_count": null,
      "outputs": [
        {
          "output_type": "execute_result",
          "data": {
            "text/html": [
              "<div>\n",
              "<style scoped>\n",
              "    .dataframe tbody tr th:only-of-type {\n",
              "        vertical-align: middle;\n",
              "    }\n",
              "\n",
              "    .dataframe tbody tr th {\n",
              "        vertical-align: top;\n",
              "    }\n",
              "\n",
              "    .dataframe thead th {\n",
              "        text-align: right;\n",
              "    }\n",
              "</style>\n",
              "<table border=\"1\" class=\"dataframe\">\n",
              "  <thead>\n",
              "    <tr style=\"text-align: right;\">\n",
              "      <th></th>\n",
              "      <th>tempo</th>\n",
              "      <th>danceability</th>\n",
              "      <th>duration_ms</th>\n",
              "      <th>loudness</th>\n",
              "      <th>speechiness</th>\n",
              "      <th>valence</th>\n",
              "      <th>energy</th>\n",
              "      <th>acousticness</th>\n",
              "      <th>key</th>\n",
              "      <th>instrumentalness</th>\n",
              "    </tr>\n",
              "  </thead>\n",
              "  <tbody>\n",
              "    <tr>\n",
              "      <th>1689</th>\n",
              "      <td>109.781</td>\n",
              "      <td>0.585</td>\n",
              "      <td>216760</td>\n",
              "      <td>-5.424</td>\n",
              "      <td>0.0302</td>\n",
              "      <td>0.615</td>\n",
              "      <td>0.757</td>\n",
              "      <td>0.006430</td>\n",
              "      <td>4</td>\n",
              "      <td>0.0000</td>\n",
              "    </tr>\n",
              "    <tr>\n",
              "      <th>1324</th>\n",
              "      <td>132.973</td>\n",
              "      <td>0.491</td>\n",
              "      <td>309734</td>\n",
              "      <td>-3.866</td>\n",
              "      <td>0.0938</td>\n",
              "      <td>0.140</td>\n",
              "      <td>0.928</td>\n",
              "      <td>0.000102</td>\n",
              "      <td>9</td>\n",
              "      <td>0.3630</td>\n",
              "    </tr>\n",
              "    <tr>\n",
              "      <th>178</th>\n",
              "      <td>110.983</td>\n",
              "      <td>0.787</td>\n",
              "      <td>273853</td>\n",
              "      <td>-5.379</td>\n",
              "      <td>0.0324</td>\n",
              "      <td>0.867</td>\n",
              "      <td>0.658</td>\n",
              "      <td>0.010800</td>\n",
              "      <td>8</td>\n",
              "      <td>0.0152</td>\n",
              "    </tr>\n",
              "    <tr>\n",
              "      <th>1932</th>\n",
              "      <td>161.109</td>\n",
              "      <td>0.514</td>\n",
              "      <td>254027</td>\n",
              "      <td>-2.027</td>\n",
              "      <td>0.4100</td>\n",
              "      <td>0.614</td>\n",
              "      <td>0.911</td>\n",
              "      <td>0.055900</td>\n",
              "      <td>1</td>\n",
              "      <td>0.0000</td>\n",
              "    </tr>\n",
              "    <tr>\n",
              "      <th>1289</th>\n",
              "      <td>147.948</td>\n",
              "      <td>0.492</td>\n",
              "      <td>232379</td>\n",
              "      <td>-7.361</td>\n",
              "      <td>0.0365</td>\n",
              "      <td>0.336</td>\n",
              "      <td>0.656</td>\n",
              "      <td>0.083200</td>\n",
              "      <td>9</td>\n",
              "      <td>0.0000</td>\n",
              "    </tr>\n",
              "  </tbody>\n",
              "</table>\n",
              "</div>"
            ],
            "text/plain": [
              "        tempo  danceability  duration_ms  ...  acousticness  key  instrumentalness\n",
              "1689  109.781         0.585       216760  ...      0.006430    4            0.0000\n",
              "1324  132.973         0.491       309734  ...      0.000102    9            0.3630\n",
              "178   110.983         0.787       273853  ...      0.010800    8            0.0152\n",
              "1932  161.109         0.514       254027  ...      0.055900    1            0.0000\n",
              "1289  147.948         0.492       232379  ...      0.083200    9            0.0000\n",
              "\n",
              "[5 rows x 10 columns]"
            ]
          },
          "metadata": {
            "tags": []
          },
          "execution_count": 10
        }
      ]
    },
    {
      "cell_type": "code",
      "metadata": {
        "id": "AHQWOVxcyKGU"
      },
      "source": [
        "dtree = DecisionTreeClassifier()"
      ],
      "execution_count": null,
      "outputs": []
    },
    {
      "cell_type": "code",
      "metadata": {
        "id": "ZsKfqetHHO4w"
      },
      "source": [
        "search_param_for_decision_tree = {\n",
        "  \"criterion\":['gini','entropy'],\n",
        "  \"min_samples_split\" : range(2,100),  \n",
        "} "
      ],
      "execution_count": null,
      "outputs": []
    },
    {
      "cell_type": "code",
      "metadata": {
        "colab": {
          "base_uri": "https://localhost:8080/"
        },
        "id": "pxfXDqj2HO8x",
        "outputId": "53954281-c477-4a9b-ab3a-6fd4032aba90"
      },
      "source": [
        "grid1 = GridSearchCV(dtree,search_param_for_decision_tree, cv = 5) \n",
        "grid1.fit (X_train, y_train)"
      ],
      "execution_count": null,
      "outputs": [
        {
          "output_type": "execute_result",
          "data": {
            "text/plain": [
              "GridSearchCV(cv=5, error_score=nan,\n",
              "             estimator=DecisionTreeClassifier(ccp_alpha=0.0, class_weight=None,\n",
              "                                              criterion='gini', max_depth=None,\n",
              "                                              max_features=None,\n",
              "                                              max_leaf_nodes=None,\n",
              "                                              min_impurity_decrease=0.0,\n",
              "                                              min_impurity_split=None,\n",
              "                                              min_samples_leaf=1,\n",
              "                                              min_samples_split=2,\n",
              "                                              min_weight_fraction_leaf=0.0,\n",
              "                                              presort='deprecated',\n",
              "                                              random_state=None,\n",
              "                                              splitter='best'),\n",
              "             iid='deprecated', n_jobs=None,\n",
              "             param_grid={'criterion': ['gini', 'entropy'],\n",
              "                         'min_samples_split': range(2, 100)},\n",
              "             pre_dispatch='2*n_jobs', refit=True, return_train_score=False,\n",
              "             scoring=None, verbose=0)"
            ]
          },
          "metadata": {
            "tags": []
          },
          "execution_count": 28
        }
      ]
    },
    {
      "cell_type": "code",
      "metadata": {
        "colab": {
          "base_uri": "https://localhost:8080/"
        },
        "id": "NqHHOg10J7yS",
        "outputId": "2ad859b1-fce8-4815-bcdc-c02a86f27e0f"
      },
      "source": [
        "grid2 = GridSearchCV(dtree,search_param_for_decision_tree, cv = 10)\n",
        "grid2.fit (X_train, y_train) "
      ],
      "execution_count": null,
      "outputs": [
        {
          "output_type": "execute_result",
          "data": {
            "text/plain": [
              "GridSearchCV(cv=10, error_score=nan,\n",
              "             estimator=DecisionTreeClassifier(ccp_alpha=0.0, class_weight=None,\n",
              "                                              criterion='gini', max_depth=None,\n",
              "                                              max_features=None,\n",
              "                                              max_leaf_nodes=None,\n",
              "                                              min_impurity_decrease=0.0,\n",
              "                                              min_impurity_split=None,\n",
              "                                              min_samples_leaf=1,\n",
              "                                              min_samples_split=2,\n",
              "                                              min_weight_fraction_leaf=0.0,\n",
              "                                              presort='deprecated',\n",
              "                                              random_state=None,\n",
              "                                              splitter='best'),\n",
              "             iid='deprecated', n_jobs=None,\n",
              "             param_grid={'criterion': ['gini', 'entropy'],\n",
              "                         'min_samples_split': range(2, 100)},\n",
              "             pre_dispatch='2*n_jobs', refit=True, return_train_score=False,\n",
              "             scoring=None, verbose=0)"
            ]
          },
          "metadata": {
            "tags": []
          },
          "execution_count": 29
        }
      ]
    },
    {
      "cell_type": "code",
      "metadata": {
        "colab": {
          "base_uri": "https://localhost:8080/"
        },
        "id": "Zd7Qi6U6J7_W",
        "outputId": "4753baaa-6f21-467a-d134-2f9453c2c9a6"
      },
      "source": [
        "print(f'Grid1 {grid1.best_params_, grid1.best_score_}')\n",
        "print(f'Grid2 {grid2.best_params_, grid2.best_score_}')"
      ],
      "execution_count": null,
      "outputs": [
        {
          "output_type": "stream",
          "text": [
            "Grid1 ({'criterion': 'entropy', 'min_samples_split': 75}, 0.7089786462089916)\n",
            "Grid2 ({'criterion': 'entropy', 'min_samples_split': 84}, 0.70502352736145)\n"
          ],
          "name": "stdout"
        }
      ]
    },
    {
      "cell_type": "code",
      "metadata": {
        "colab": {
          "base_uri": "https://localhost:8080/"
        },
        "id": "lvIqpD-TMTVV",
        "outputId": "c0c202ec-0393-40cc-da73-e8764ca0c11e"
      },
      "source": [
        "path = dtree.cost_complexity_pruning_path(X_train, y_train)\n",
        "alphas = path ['ccp_alphas']\n",
        "alphas"
      ],
      "execution_count": null,
      "outputs": [
        {
          "output_type": "execute_result",
          "data": {
            "text/plain": [
              "array([0.        , 0.00022046, 0.00022046, 0.00042832, 0.00044092,\n",
              "       0.00060626, 0.0006105 , 0.00061177, 0.00061244, 0.00061938,\n",
              "       0.00062004, 0.00062988, 0.00063262, 0.00063262, 0.00064779,\n",
              "       0.00064815, 0.00064935, 0.00066138, 0.00066138, 0.00076426,\n",
              "       0.00079365, 0.00079365, 0.0008527 , 0.00086179, 0.00088183,\n",
              "       0.00088183, 0.00088183, 0.00088183, 0.00088183, 0.00088183,\n",
              "       0.00088183, 0.00088183, 0.00088183, 0.00088183, 0.00088183,\n",
              "       0.00088183, 0.00091575, 0.00093144, 0.00099206, 0.0010026 ,\n",
              "       0.00100781, 0.00100781, 0.00102041, 0.00102837, 0.00105474,\n",
              "       0.0010582 , 0.0010582 , 0.0010582 , 0.0010582 , 0.0010582 ,\n",
              "       0.00107788, 0.00108025, 0.00109419, 0.00109522, 0.00110229,\n",
              "       0.00110229, 0.00110229, 0.00111699, 0.00111804, 0.00113379,\n",
              "       0.00113379, 0.00113379, 0.00114199, 0.00114638, 0.00115543,\n",
              "       0.00115741, 0.00115741, 0.00115741, 0.00115741, 0.0011598 ,\n",
              "       0.00117187, 0.00120772, 0.00121693, 0.001221  , 0.00122827,\n",
              "       0.00122827, 0.00123457, 0.00124008, 0.00124008, 0.00124546,\n",
              "       0.00124912, 0.00127188, 0.00127429, 0.00132275, 0.00140202,\n",
              "       0.00143613, 0.00147721, 0.00148475, 0.00150647, 0.00151565,\n",
              "       0.00152625, 0.0015524 , 0.0015747 , 0.0015873 , 0.0016385 ,\n",
              "       0.00164123, 0.00166604, 0.00166974, 0.00172052, 0.00172371,\n",
              "       0.00174263, 0.00174292, 0.00176367, 0.00176818, 0.00179671,\n",
              "       0.00188125, 0.00188964, 0.00190957, 0.00193385, 0.00196838,\n",
              "       0.00204082, 0.00205196, 0.00210264, 0.00211933, 0.00215727,\n",
              "       0.0023088 , 0.00231519, 0.00235293, 0.00250937, 0.00260642,\n",
              "       0.00264819, 0.00265428, 0.00275223, 0.00280145, 0.00306182,\n",
              "       0.00308155, 0.00314491, 0.00323807, 0.00368537, 0.00399765,\n",
              "       0.00416366, 0.00481658, 0.0052111 , 0.00524535, 0.0053921 ,\n",
              "       0.00657188, 0.00675211, 0.00740603, 0.02434956, 0.02540109,\n",
              "       0.03031028, 0.03821241])"
            ]
          },
          "metadata": {
            "tags": []
          },
          "execution_count": 26
        }
      ]
    },
    {
      "cell_type": "code",
      "metadata": {
        "id": "EmCPEfk4M38n"
      },
      "source": [
        "accuracy_train, accuracy_test = [], []\n",
        "for i in alphas:\n",
        "  dtree_1 = DecisionTreeClassifier(ccp_alpha=i)\n",
        "  dtree_1.fit(X_train, y_train)\n",
        "  y_train_pred = dtree_1.predict(X_train)\n",
        "  y_test_pred = dtree_1.predict(X_test)\n",
        "\n",
        "  accuracy_train.append(accuracy_score(y_train, y_train_pred))\n",
        "  accuracy_test.append(accuracy_score(y_test, y_test_pred))\n"
      ],
      "execution_count": null,
      "outputs": []
    },
    {
      "cell_type": "code",
      "metadata": {
        "colab": {
          "base_uri": "https://localhost:8080/",
          "height": 448
        },
        "id": "kT9UKr_wM3_U",
        "outputId": "6cbee494-22c4-441a-87e8-c31d2296b84f"
      },
      "source": [
        "sns.set()\n",
        "plt.figure(figsize=(14,7))\n",
        "sns.lineplot(y = accuracy_train, x = alphas, label = \"Train Accuracy\")\n",
        "sns.lineplot(y = accuracy_test, x = alphas, label = \"Test Accuracy\")\n",
        "plt.xticks(ticks = np.arange(0.0,0.15,0.02))\n",
        "plt.show"
      ],
      "execution_count": null,
      "outputs": [
        {
          "output_type": "execute_result",
          "data": {
            "text/plain": [
              "<function matplotlib.pyplot.show>"
            ]
          },
          "metadata": {
            "tags": []
          },
          "execution_count": 41
        },
        {
          "output_type": "display_data",
          "data": {
            "image/png": "[encoded data removed]",
            "text/plain": [
              "<Figure size 1008x504 with 1 Axes>"
            ]
          },
          "metadata": {
            "tags": []
          }
        }
      ]
    },
    {
      "cell_type": "code",
      "metadata": {
        "id": "2BAySXoOQLgg"
      },
      "source": [
        "dtree_temp1 =  DecisionTreeClassifier(criterion='entropy', min_samples_split=75, ccp_alpha=0.005)"
      ],
      "execution_count": null,
      "outputs": []
    },
    {
      "cell_type": "code",
      "metadata": {
        "colab": {
          "base_uri": "https://localhost:8080/"
        },
        "id": "gpi4n6RhQjMG",
        "outputId": "95aa3911-bc14-47cb-8da6-237b9a0723b1"
      },
      "source": [
        "dtree_temp1_fit = dtree_temp1.fit(X_train, y_train)\n",
        "dtree_temp1_train_predict = dtree_temp1.predict(X_train)\n",
        "\n",
        "dtree_temp1_train_predict_score = accuracy_score(y_train, dtree_temp1_train_predict) *100\n",
        "dtree_temp1_train_predict_score"
      ],
      "execution_count": null,
      "outputs": [
        {
          "output_type": "execute_result",
          "data": {
            "text/plain": [
              "76.85185185185185"
            ]
          },
          "metadata": {
            "tags": []
          },
          "execution_count": 51
        }
      ]
    },
    {
      "cell_type": "code",
      "metadata": {
        "id": "AnFPz4QBRrhO"
      },
      "source": [
        ""
      ],
      "execution_count": null,
      "outputs": []
    },
    {
      "cell_type": "code",
      "metadata": {
        "id": "1maXyAZsRrk3"
      },
      "source": [
        "search_param_for_decision_tree_1 = {\n",
        "  \"criterion\":['gini','entropy'],\n",
        "  \"min_samples_split\" : range(2,100),\n",
        "  \"ccp_alpha\" : [0.003,0.004,0.005]  \n",
        "} \n"
      ],
      "execution_count": null,
      "outputs": []
    },
    {
      "cell_type": "code",
      "metadata": {
        "colab": {
          "base_uri": "https://localhost:8080/"
        },
        "id": "Le4Gb-_IRroG",
        "outputId": "7e7e9130-3a8a-4d91-efe3-4ad47c91fc6b"
      },
      "source": [
        "grid1_1 = GridSearchCV(dtree,search_param_for_decision_tree_1, cv = 10) \n",
        "grid1_1.fit (X_train, y_train)"
      ],
      "execution_count": null,
      "outputs": [
        {
          "output_type": "execute_result",
          "data": {
            "text/plain": [
              "GridSearchCV(cv=10, error_score=nan,\n",
              "             estimator=DecisionTreeClassifier(ccp_alpha=0.0, class_weight=None,\n",
              "                                              criterion='gini', max_depth=None,\n",
              "                                              max_features=None,\n",
              "                                              max_leaf_nodes=None,\n",
              "                                              min_impurity_decrease=0.0,\n",
              "                                              min_impurity_split=None,\n",
              "                                              min_samples_leaf=1,\n",
              "                                              min_samples_split=2,\n",
              "                                              min_weight_fraction_leaf=0.0,\n",
              "                                              presort='deprecated',\n",
              "                                              random_state=None,\n",
              "                                              splitter='best'),\n",
              "             iid='deprecated', n_jobs=None,\n",
              "             param_grid={'ccp_alpha': [0.003, 0.004, 0.005],\n",
              "                         'criterion': ['gini', 'entropy'],\n",
              "                         'min_samples_split': range(2, 100)},\n",
              "             pre_dispatch='2*n_jobs', refit=True, return_train_score=False,\n",
              "             scoring=None, verbose=0)"
            ]
          },
          "metadata": {
            "tags": []
          },
          "execution_count": 54
        }
      ]
    },
    {
      "cell_type": "code",
      "metadata": {
        "colab": {
          "base_uri": "https://localhost:8080/"
        },
        "id": "BHTxEXvdSMjR",
        "outputId": "0f57fe1a-aaa3-4b72-fb90-598452356071"
      },
      "source": [
        "print(f'Grid1_1 {grid1_1.best_params_, grid1_1.best_score_}')"
      ],
      "execution_count": null,
      "outputs": [
        {
          "output_type": "stream",
          "text": [
            "Grid1_1 ({'ccp_alpha': 0.004, 'criterion': 'entropy', 'min_samples_split': 14}, 0.7156151969327292)\n"
          ],
          "name": "stdout"
        }
      ]
    },
    {
      "cell_type": "code",
      "metadata": {
        "id": "njmZrm2QS61t"
      },
      "source": [
        "dtree_temp2 =  DecisionTreeClassifier(criterion='entropy', min_samples_split=14, ccp_alpha=0.004)"
      ],
      "execution_count": null,
      "outputs": []
    },
    {
      "cell_type": "code",
      "metadata": {
        "colab": {
          "base_uri": "https://localhost:8080/"
        },
        "id": "tWs6t5jkS2J1",
        "outputId": "213743e9-082b-4a80-a419-de46e1e39cd8"
      },
      "source": [
        "dtree_temp2_fit = dtree_temp2.fit(X_train, y_train)\n",
        "dtree_temp2_train_predict = dtree_temp2.predict(X_train)\n",
        "\n",
        "dtree_temp2_train_predict_score = accuracy_score(y_train, dtree_temp2_train_predict) *100\n",
        "dtree_temp2_train_predict_score"
      ],
      "execution_count": null,
      "outputs": [
        {
          "output_type": "execute_result",
          "data": {
            "text/plain": [
              "82.34126984126983"
            ]
          },
          "metadata": {
            "tags": []
          },
          "execution_count": 61
        }
      ]
    },
    {
      "cell_type": "code",
      "metadata": {
        "colab": {
          "base_uri": "https://localhost:8080/"
        },
        "id": "R51Nw8hvTKaV",
        "outputId": "19f098b7-42a7-4416-8a00-8e67d17300f3"
      },
      "source": [
        "dtree_temp2_test_predict = dtree_temp2.predict(X_test)\n",
        "dtree_temp2_test_predict_score = accuracy_score(y_test, dtree_temp2_test_predict) *100\n",
        "dtree_temp2_test_predict_score"
      ],
      "execution_count": null,
      "outputs": [
        {
          "output_type": "execute_result",
          "data": {
            "text/plain": [
              "72.27722772277228"
            ]
          },
          "metadata": {
            "tags": []
          },
          "execution_count": 62
        }
      ]
    },
    {
      "cell_type": "code",
      "metadata": {
        "colab": {
          "base_uri": "https://localhost:8080/"
        },
        "id": "xWhC_zjxTzMf",
        "outputId": "7557191b-76f6-4275-d29e-d7f91fe9a7f6"
      },
      "source": [
        "print(classification_report(y_test, dtree_temp2_test_predict))"
      ],
      "execution_count": null,
      "outputs": [
        {
          "output_type": "stream",
          "text": [
            "              precision    recall  f1-score   support\n",
            "\n",
            "           0       0.69      0.74      0.72       239\n",
            "           1       0.75      0.70      0.73       266\n",
            "\n",
            "    accuracy                           0.72       505\n",
            "   macro avg       0.72      0.72      0.72       505\n",
            "weighted avg       0.72      0.72      0.72       505\n",
            "\n"
          ],
          "name": "stdout"
        }
      ]
    },
    {
      "cell_type": "code",
      "metadata": {
        "colab": {
          "base_uri": "https://localhost:8080/",
          "height": 273
        },
        "id": "pD4jDFmqUGPa",
        "outputId": "87d3b160-93ac-4d38-8982-e2834f99166f"
      },
      "source": [
        "cm1 = confusion_matrix(y_test, dtree_temp2_test_predict)\n",
        "df_cm1 = pd.DataFrame(cm1, range(2), range(2))\n",
        "# plt.figure(figsize=(10,7))\n",
        "sns.set(font_scale=1.4) # for label size\n",
        "sns.heatmap(df_cm1, annot=True, cmap='Blues', annot_kws={\"size\": 16}, fmt='g') # font size\n",
        "plt.show()"
      ],
      "execution_count": null,
      "outputs": [
        {
          "output_type": "display_data",
          "data": {
            "image/png": "[encoded data removed]",
            "text/plain": [
              "<Figure size 432x288 with 2 Axes>"
            ]
          },
          "metadata": {
            "tags": []
          }
        }
      ]
    },
    {
      "cell_type": "code",
      "metadata": {
        "id": "nAcy5VhqUaZI"
      },
      "source": [
        "random_forest = RandomForestClassifier()"
      ],
      "execution_count": null,
      "outputs": []
    },
    {
      "cell_type": "code",
      "metadata": {
        "id": "IUAR-XvkUf4b"
      },
      "source": [
        "random_forest_grid_params ={\n",
        "    'max_depth' : range(5,60,5),\n",
        "    'n_estimators' : range(5,60,5)\n",
        "}"
      ],
      "execution_count": null,
      "outputs": []
    },
    {
      "cell_type": "code",
      "metadata": {
        "colab": {
          "base_uri": "https://localhost:8080/"
        },
        "id": "W_tnS0JuWE_2",
        "outputId": "ab9b4f80-5aa0-4e1c-cf8c-aa6d338053d7"
      },
      "source": [
        "grid_for_rf_1 = GridSearchCV(random_forest,random_forest_grid_params, cv = 10) \n",
        "grid_for_rf_1.fit (X_train, y_train)"
      ],
      "execution_count": null,
      "outputs": [
        {
          "output_type": "execute_result",
          "data": {
            "text/plain": [
              "GridSearchCV(cv=10, error_score=nan,\n",
              "             estimator=RandomForestClassifier(bootstrap=True, ccp_alpha=0.0,\n",
              "                                              class_weight=None,\n",
              "                                              criterion='gini', max_depth=None,\n",
              "                                              max_features='auto',\n",
              "                                              max_leaf_nodes=None,\n",
              "                                              max_samples=None,\n",
              "                                              min_impurity_decrease=0.0,\n",
              "                                              min_impurity_split=None,\n",
              "                                              min_samples_leaf=1,\n",
              "                                              min_samples_split=2,\n",
              "                                              min_weight_fraction_leaf=0.0,\n",
              "                                              n_estimators=100, n_jobs=None,\n",
              "                                              oob_score=False,\n",
              "                                              random_state=None, verbose=0,\n",
              "                                              warm_start=False),\n",
              "             iid='deprecated', n_jobs=None,\n",
              "             param_grid={'max_depth': range(5, 60, 5),\n",
              "                         'n_estimators': range(5, 60, 5)},\n",
              "             pre_dispatch='2*n_jobs', refit=True, return_train_score=False,\n",
              "             scoring=None, verbose=0)"
            ]
          },
          "metadata": {
            "tags": []
          },
          "execution_count": 12
        }
      ]
    },
    {
      "cell_type": "code",
      "metadata": {
        "colab": {
          "base_uri": "https://localhost:8080/"
        },
        "id": "CJEnfjmfV2nM",
        "outputId": "99193533-5d94-4000-c5e7-4425edaa72ad"
      },
      "source": [
        "grid_for_rf_2 = GridSearchCV(random_forest,random_forest_grid_params, cv = 5) \n",
        "grid_for_rf_2.fit (X_train, y_train)"
      ],
      "execution_count": null,
      "outputs": [
        {
          "output_type": "execute_result",
          "data": {
            "text/plain": [
              "GridSearchCV(cv=5, error_score=nan,\n",
              "             estimator=RandomForestClassifier(bootstrap=True, ccp_alpha=0.0,\n",
              "                                              class_weight=None,\n",
              "                                              criterion='gini', max_depth=None,\n",
              "                                              max_features='auto',\n",
              "                                              max_leaf_nodes=None,\n",
              "                                              max_samples=None,\n",
              "                                              min_impurity_decrease=0.0,\n",
              "                                              min_impurity_split=None,\n",
              "                                              min_samples_leaf=1,\n",
              "                                              min_samples_split=2,\n",
              "                                              min_weight_fraction_leaf=0.0,\n",
              "                                              n_estimators=100, n_jobs=None,\n",
              "                                              oob_score=False,\n",
              "                                              random_state=None, verbose=0,\n",
              "                                              warm_start=False),\n",
              "             iid='deprecated', n_jobs=None,\n",
              "             param_grid={'max_depth': range(5, 60, 5),\n",
              "                         'n_estimators': range(5, 60, 5)},\n",
              "             pre_dispatch='2*n_jobs', refit=True, return_train_score=False,\n",
              "             scoring=None, verbose=0)"
            ]
          },
          "metadata": {
            "tags": []
          },
          "execution_count": 13
        }
      ]
    },
    {
      "cell_type": "code",
      "metadata": {
        "colab": {
          "base_uri": "https://localhost:8080/"
        },
        "id": "YOkB8s6yWfBk",
        "outputId": "538cd4ae-ccc8-4ac2-cd31-d1c65a903aea"
      },
      "source": [
        "print(f'Grid1 {grid_for_rf_1.best_params_, grid_for_rf_1.best_score_}')\n",
        "print(f'Grid2 {grid_for_rf_2.best_params_, grid_for_rf_2.best_score_}')"
      ],
      "execution_count": null,
      "outputs": [
        {
          "output_type": "stream",
          "text": [
            "Grid1 ({'max_depth': 30, 'n_estimators': 50}, 0.7877134890205646)\n",
            "Grid2 ({'max_depth': 20, 'n_estimators': 50}, 0.7837081721417174)\n"
          ],
          "name": "stdout"
        }
      ]
    },
    {
      "cell_type": "code",
      "metadata": {
        "id": "zBRDNejSWgtl"
      },
      "source": [
        ""
      ],
      "execution_count": null,
      "outputs": []
    },
    {
      "cell_type": "code",
      "metadata": {
        "id": "j5TCFMmDWgxj"
      },
      "source": [
        ""
      ],
      "execution_count": null,
      "outputs": []
    },
    {
      "cell_type": "code",
      "metadata": {
        "id": "TZqs9qYIWaYC"
      },
      "source": [
        "rf_temp1 =  RandomForestClassifier(max_depth= 25, n_estimators= 30)"
      ],
      "execution_count": null,
      "outputs": []
    },
    {
      "cell_type": "code",
      "metadata": {
        "colab": {
          "base_uri": "https://localhost:8080/"
        },
        "id": "YskGrKLjWawy",
        "outputId": "4019307b-8648-4daf-d9de-a990060428b6"
      },
      "source": [
        "rf_temp1_fit = rf_temp1.fit(X_train, y_train)\n",
        "rf_temp1_train_predict = rf_temp1.predict(X_train)\n",
        "\n",
        "rf_temp1_train_predict_score = accuracy_score(y_train, rf_temp1_train_predict) *100\n",
        "rf_temp1_train_predict_score"
      ],
      "execution_count": null,
      "outputs": [
        {
          "output_type": "execute_result",
          "data": {
            "text/plain": [
              "99.8015873015873"
            ]
          },
          "metadata": {
            "tags": []
          },
          "execution_count": 16
        }
      ]
    },
    {
      "cell_type": "code",
      "metadata": {
        "colab": {
          "base_uri": "https://localhost:8080/"
        },
        "id": "JDTNnIAKWa0s",
        "outputId": "ff96aa7d-f913-4071-e07b-b7de12432eae"
      },
      "source": [
        "rf_temp1_test_predict = rf_temp1.predict(X_test)\n",
        "rf_temp1_test_predict_score = accuracy_score(y_test, rf_temp1_test_predict) *100\n",
        "rf_temp1_test_predict_score"
      ],
      "execution_count": null,
      "outputs": [
        {
          "output_type": "execute_result",
          "data": {
            "text/plain": [
              "76.43564356435644"
            ]
          },
          "metadata": {
            "tags": []
          },
          "execution_count": 17
        }
      ]
    },
    {
      "cell_type": "code",
      "metadata": {
        "colab": {
          "base_uri": "https://localhost:8080/"
        },
        "id": "vT0-GU1n6Hkc",
        "outputId": "807e3cd6-72e0-4627-ce00-ddaf3e6fe6c6"
      },
      "source": [
        "print(classification_report(y_test, rf_temp1_test_predict))"
      ],
      "execution_count": null,
      "outputs": [
        {
          "output_type": "stream",
          "text": [
            "              precision    recall  f1-score   support\n",
            "\n",
            "           0       0.80      0.76      0.78       279\n",
            "           1       0.72      0.77      0.74       226\n",
            "\n",
            "    accuracy                           0.76       505\n",
            "   macro avg       0.76      0.76      0.76       505\n",
            "weighted avg       0.77      0.76      0.76       505\n",
            "\n"
          ],
          "name": "stdout"
        }
      ]
    },
    {
      "cell_type": "code",
      "metadata": {
        "colab": {
          "base_uri": "https://localhost:8080/",
          "height": 273
        },
        "id": "KmGMYIX56Hqt",
        "outputId": "7359f622-eaa7-426b-a97c-7f7c195fc634"
      },
      "source": [
        "cm3 = confusion_matrix(y_test, rf_temp1_test_predict)\n",
        "df_cm3 = pd.DataFrame(cm3, range(2), range(2))\n",
        "# plt.figure(figsize=(10,7))\n",
        "sns.set(font_scale=1.4) # for label size\n",
        "sns.heatmap(df_cm3, annot=True, cmap='Blues', annot_kws={\"size\": 16}, fmt='g') # font size\n",
        "plt.show()"
      ],
      "execution_count": null,
      "outputs": [
        {
          "output_type": "display_data",
          "data": {
            "image/png": "[encoded data removed]",
            "text/plain": [
              "<Figure size 432x288 with 2 Axes>"
            ]
          },
          "metadata": {
            "tags": []
          }
        }
      ]
    },
    {
      "cell_type": "code",
      "metadata": {
        "id": "HjEvm5NQWa5Q"
      },
      "source": [
        ""
      ],
      "execution_count": null,
      "outputs": []
    },
    {
      "cell_type": "code",
      "metadata": {
        "id": "TKWYuKdtX-oF"
      },
      "source": [
        "rf_temp2 =  RandomForestClassifier(max_depth= 30, n_estimators= 50)"
      ],
      "execution_count": null,
      "outputs": []
    },
    {
      "cell_type": "code",
      "metadata": {
        "colab": {
          "base_uri": "https://localhost:8080/"
        },
        "id": "yjAXmglIYDPp",
        "outputId": "e2bb925f-5da4-4986-ce1c-9237ee983e5f"
      },
      "source": [
        "rf_temp2_fit = rf_temp2.fit(X_train, y_train)\n",
        "rf_temp2_train_predict = rf_temp2.predict(X_train)\n",
        "\n",
        "rf_temp2_train_predict_score = accuracy_score(y_train, rf_temp2_train_predict) *100\n",
        "rf_temp2_train_predict_score"
      ],
      "execution_count": null,
      "outputs": [
        {
          "output_type": "execute_result",
          "data": {
            "text/plain": [
              "99.86772486772487"
            ]
          },
          "metadata": {
            "tags": []
          },
          "execution_count": 16
        }
      ]
    },
    {
      "cell_type": "code",
      "metadata": {
        "colab": {
          "base_uri": "https://localhost:8080/"
        },
        "id": "dHoAXG5hYe8b",
        "outputId": "77a57624-d611-4efb-e813-cd66049015a1"
      },
      "source": [
        "rf_temp2_test_predict = rf_temp2.predict(X_test)\n",
        "rf_temp2_test_predict_score = accuracy_score(y_test, rf_temp2_test_predict) *100\n",
        "rf_temp2_test_predict_score"
      ],
      "execution_count": null,
      "outputs": [
        {
          "output_type": "execute_result",
          "data": {
            "text/plain": [
              "75.04950495049505"
            ]
          },
          "metadata": {
            "tags": []
          },
          "execution_count": 17
        }
      ]
    },
    {
      "cell_type": "code",
      "metadata": {
        "id": "a1sN7IOfbjO2"
      },
      "source": [
        "rf_temp3 =  RandomForestClassifier(max_depth= 5, n_estimators= 50)"
      ],
      "execution_count": null,
      "outputs": []
    },
    {
      "cell_type": "code",
      "metadata": {
        "colab": {
          "base_uri": "https://localhost:8080/"
        },
        "id": "goN-5fcPboFL",
        "outputId": "5c66e62b-7310-4867-a941-0f5a6f53be5d"
      },
      "source": [
        "rf_temp3_fit = rf_temp3.fit(X_train, y_train)\n",
        "rf_temp3_train_predict = rf_temp3.predict(X_train)\n",
        "\n",
        "rf_temp3_train_predict_score = accuracy_score(y_train, rf_temp3_train_predict) *100\n",
        "rf_temp3_train_predict_score"
      ],
      "execution_count": null,
      "outputs": [
        {
          "output_type": "execute_result",
          "data": {
            "text/plain": [
              "81.94444444444444"
            ]
          },
          "metadata": {
            "tags": []
          },
          "execution_count": 11
        }
      ]
    },
    {
      "cell_type": "code",
      "metadata": {
        "colab": {
          "base_uri": "https://localhost:8080/"
        },
        "id": "CmMz3aupb4Ds",
        "outputId": "df43920a-e845-45d7-f2e8-91ff9ff8ee75"
      },
      "source": [
        "rf_temp3_test_predict = rf_temp3.predict(X_test)\n",
        "rf_temp3_test_predict_score = accuracy_score(y_test, rf_temp3_test_predict) *100\n",
        "rf_temp3_test_predict_score"
      ],
      "execution_count": null,
      "outputs": [
        {
          "output_type": "execute_result",
          "data": {
            "text/plain": [
              "75.44554455445545"
            ]
          },
          "metadata": {
            "tags": []
          },
          "execution_count": 12
        }
      ]
    },
    {
      "cell_type": "code",
      "metadata": {
        "id": "kEh6YqfNc_Yr",
        "colab": {
          "base_uri": "https://localhost:8080/"
        },
        "outputId": "0b69369a-36c1-4298-f55e-06623bf82b1e"
      },
      "source": [
        "print(classification_report(y_test, rf_temp3_test_predict))"
      ],
      "execution_count": null,
      "outputs": [
        {
          "output_type": "stream",
          "text": [
            "              precision    recall  f1-score   support\n",
            "\n",
            "           0       0.79      0.75      0.77       279\n",
            "           1       0.71      0.76      0.73       226\n",
            "\n",
            "    accuracy                           0.75       505\n",
            "   macro avg       0.75      0.75      0.75       505\n",
            "weighted avg       0.76      0.75      0.75       505\n",
            "\n"
          ],
          "name": "stdout"
        }
      ]
    },
    {
      "cell_type": "code",
      "metadata": {
        "colab": {
          "base_uri": "https://localhost:8080/",
          "height": 273
        },
        "id": "5AfhSc2W2k--",
        "outputId": "773aa38f-8c5d-4afc-df4b-615f007e1a52"
      },
      "source": [
        "cm2 = confusion_matrix(y_test, rf_temp3_test_predict)\n",
        "df_cm2 = pd.DataFrame(cm2, range(2), range(2))\n",
        "# plt.figure(figsize=(10,7))\n",
        "sns.set(font_scale=1.4) # for label size\n",
        "sns.heatmap(df_cm2, annot=True, cmap='Blues', annot_kws={\"size\": 16}, fmt='g') # font size\n",
        "plt.show()"
      ],
      "execution_count": null,
      "outputs": [
        {
          "output_type": "display_data",
          "data": {
            "image/png": "[encoded data removed]",
            "text/plain": [
              "<Figure size 432x288 with 2 Axes>"
            ]
          },
          "metadata": {
            "tags": []
          }
        }
      ]
    }
  ]
}