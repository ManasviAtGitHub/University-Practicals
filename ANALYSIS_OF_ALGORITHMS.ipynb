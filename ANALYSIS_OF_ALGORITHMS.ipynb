{
  "nbformat": 4,
  "nbformat_minor": 0,
  "metadata": {
    "colab": {
      "name": "ANALYSIS OF ALGORITHMS.ipynb",
      "provenance": [],
      "collapsed_sections": [
        "p8NjRkXnrsUg"
      ],
      "toc_visible": true
    },
    "kernelspec": {
      "name": "python3",
      "display_name": "Python 3"
    }
  },
  "cells": [
    {
      "cell_type": "markdown",
      "metadata": {
        "id": "QEkm-Iq50QWZ"
      },
      "source": [
        "## **ANALYSIS OF ALGORITHMS**\n",
        "\n",
        "\n",
        "\n",
        "\n",
        "\n",
        "\n",
        "\n",
        "\n"
      ]
    },
    {
      "cell_type": "code",
      "metadata": {
        "id": "V-Z867zAGxwZ"
      },
      "source": [
        ""
      ],
      "execution_count": null,
      "outputs": []
    },
    {
      "cell_type": "code",
      "metadata": {
        "colab": {
          "base_uri": "https://localhost:8080/",
          "height": 283
        },
        "id": "M-R8mEUB0Ox1",
        "outputId": "ef327186-c2f2-4635-81a1-f0ea95099cb3"
      },
      "source": [
        "from matplotlib import pyplot\n",
        "import numpy as np\n",
        "import timeit\n",
        "from functools import partial\n",
        "import random\n",
        " \n",
        "def fconst(N):\n",
        "    \"\"\"\n",
        "    O(1) function\n",
        "    \"\"\"\n",
        "    x = 1\n",
        " \n",
        "def flinear(N):\n",
        "    \"\"\"\n",
        "    O(n) function\n",
        "    \"\"\"\n",
        "    x = [i for i in range(N)]\n",
        " \n",
        "def fsquare(N):\n",
        "    \"\"\"\n",
        "    O(n^2) function\n",
        "    \"\"\"\n",
        "    for i in range(N):\n",
        "        for j in range(N):\n",
        "            x = i*j\n",
        " \n",
        "def fshuffle(N):\n",
        "    # O(N)\n",
        "    random.shuffle(list(range(N)))\n",
        " \n",
        "def fsort(N):\n",
        "    x = list(range(N))\n",
        "    random.shuffle(x)\n",
        "    x.sort()\n",
        " \n",
        "def plotTC(fn, nMin, nMax, nInc, nTests):\n",
        "    \"\"\"\n",
        "    Run timer and plot time complexity\n",
        "    \"\"\"\n",
        "    x = []\n",
        "    y = []\n",
        "    for i in range(nMin, nMax, nInc):\n",
        "        N = i\n",
        "        testNTimer = timeit.Timer(partial(fn, N))\n",
        "        t = testNTimer.timeit(number=nTests)\n",
        "        x.append(i)\n",
        "        y.append(t)\n",
        "    p1 = pyplot.plot(x, y, 'o')\n",
        "    #pyplot.legend([p1,], [fn.__name__, ])\n",
        " \n",
        "# main() function\n",
        "def main():\n",
        "    print('Analyzing Algorithms...')\n",
        " \n",
        "    plotTC(fconst, 10, 1000, 10, 10)\n",
        "    plotTC(flinear, 10, 1000, 10, 10)\n",
        "    plotTC(fsquare, 10, 1000, 10, 10)\n",
        "    #plotTC(fshuffle, 10, 1000, 1000, 10)\n",
        "    plotTC(fsort, 10, 1000, 10, 10)\n",
        " \n",
        "    # enable this in case you want to set y axis limits\n",
        "    #pyplot.ylim((-0.1, 0.5))\n",
        "    \n",
        "    # show plot\n",
        "    pyplot.show()\n",
        " \n",
        "# call main\n",
        "if __name__ == '__main__':\n",
        "    main()"
      ],
      "execution_count": null,
      "outputs": [
        {
          "output_type": "stream",
          "text": [
            "Analyzing Algorithms...\n"
          ],
          "name": "stdout"
        },
        {
          "output_type": "display_data",
          "data": {
            "image/png": "[encoded data removed]",
            "text/plain": [
              "<Figure size 432x288 with 1 Axes>"
            ]
          },
          "metadata": {
            "tags": [],
            "needs_background": "light"
          }
        }
      ]
    },
    {
      "cell_type": "code",
      "metadata": {
        "id": "BjRH6Zbs6vTD"
      },
      "source": [
        ""
      ],
      "execution_count": null,
      "outputs": []
    },
    {
      "cell_type": "code",
      "metadata": {
        "id": "CcF9XA8m1ENv",
        "colab": {
          "base_uri": "https://localhost:8080/",
          "height": 265
        },
        "outputId": "5ddb73cc-e8a3-4377-f992-0443d14cbced"
      },
      "source": [
        "import matplotlib.pyplot as plt\n",
        "import numpy as np\n",
        "\n",
        "# 100 linearly spaced numbers\n",
        "x = np.linspace(1,50,50)\n",
        "\n",
        "# the function, which is y = x^2 here\n",
        "y = x**2\n",
        "u = np.linspace(1,12,12)\n",
        "v = 2 ** u\n",
        "\n",
        "\n",
        "# setting the axes at the centre\n",
        "fig = plt.figure()\n",
        "ax = fig.add_subplot(1, 1, 1)\n",
        "# ax.spines['left'].set_position('center')\n",
        "# ax.spines['bottom'].set_position('zero')\n",
        "# ax.spines['right'].set_color('none')\n",
        "# ax.spines['top'].set_color('none')\n",
        "# ax.xaxis.set_ticks_position('bottom')\n",
        "# ax.yaxis.set_ticks_position('left')\n",
        "\n",
        "# plot the function\n",
        "plt.plot(x,y, 'r')\n",
        "plt.plot(u,v, 'b')\n",
        "# show the plot\n",
        "plt.show()"
      ],
      "execution_count": null,
      "outputs": [
        {
          "output_type": "display_data",
          "data": {
            "image/png": "[encoded data removed]",
            "text/plain": [
              "<Figure size 432x288 with 1 Axes>"
            ]
          },
          "metadata": {
            "tags": [],
            "needs_background": "light"
          }
        }
      ]
    },
    {
      "cell_type": "code",
      "metadata": {
        "id": "7zk9HGO11EbH",
        "colab": {
          "base_uri": "https://localhost:8080/",
          "height": 265
        },
        "outputId": "337e5844-39f6-431e-b991-2532a11b5f17"
      },
      "source": [
        "import matplotlib.pyplot as plt\n",
        "import numpy as np\n",
        "\n",
        "# Create the vectors X and Y\n",
        "# x = np.array(range(50))\n",
        "# 100 linearly spaced numbers\n",
        "x = np.linspace(1,5,100)\n",
        "y = x ** 2\n",
        "z = 2 ** x\n",
        "v = x\n",
        "c = x - (x-1)\n",
        "# Add a grid\n",
        "plt.grid(alpha=.4,linestyle='--')\n",
        "# Create the plot\n",
        "plt.plot(x,y,label='y = x**2')\n",
        "plt.plot(x,y+x,label='y = x**2 + x')\n",
        "plt.plot(x,c,label='c')\n",
        "# plt.plot(x,z,label='z = 2**x')\n",
        "plt.plot(x,v,label='y = linear')\n",
        "# Add a Legend\n",
        "plt.legend()\n",
        "\n",
        "\n",
        "# Show the plot\n",
        "plt.show()"
      ],
      "execution_count": null,
      "outputs": [
        {
          "output_type": "display_data",
          "data": {
            "image/png": "[encoded data removed]",
            "text/plain": [
              "<Figure size 432x288 with 1 Axes>"
            ]
          },
          "metadata": {
            "tags": [],
            "needs_background": "light"
          }
        }
      ]
    },
    {
      "cell_type": "code",
      "metadata": {
        "id": "oQGkaWjE1Ej1",
        "colab": {
          "base_uri": "https://localhost:8080/",
          "height": 516
        },
        "outputId": "3d157af1-706b-4a08-d80e-ffa6595b1ef7"
      },
      "source": [
        "import math\n",
        "import numpy as np\n",
        "import matplotlib.pyplot as plt \n",
        "\n",
        "n = np.arange(1, 10, 0.1)\n",
        "y = [nn*np.log(nn) for nn in n]\n",
        "plt.plot(n,y,label=\"n*log(n)\")\n",
        "y = n \n",
        "plt.plot(n,y,label=\"n\")\n",
        "y = [np.log(nn)**2 for nn in n]\n",
        "plt.plot(n,y,label=\"log(n)**2\")\n",
        "y = n**(1/2)\n",
        "plt.plot(n,y,label=\"n**(1/2)\")\n",
        "y = [np.log(nn) for nn in n]\n",
        "plt.plot(n,y,label=\"log(n)\")\n",
        "plt.legend()\n",
        "plt.show()\n",
        "\n",
        "n = np.arange(1,5)\n",
        "y = [math.factorial(nn) for nn in n]\n",
        "plt.plot(n,y,label=\"n!\")\n",
        "y = 2**n\n",
        "plt.plot(n,y,label=\"2**n\")\n",
        "y = n**2\n",
        "plt.plot(n,y,label=\"n**2\")\n",
        "y = n*(n**(1/2))\n",
        "plt.plot(n,y,label=\"n*(n**(1/2)\")\n",
        "y = [np.log(nn) for nn in n]\n",
        "plt.plot(n,y,label=\"log(n)\")\n",
        "plt.legend()\n",
        "plt.show()"
      ],
      "execution_count": null,
      "outputs": [
        {
          "output_type": "display_data",
          "data": {
            "image/png": "[encoded data removed]",
            "text/plain": [
              "<Figure size 432x288 with 1 Axes>"
            ]
          },
          "metadata": {
            "tags": [],
            "needs_background": "light"
          }
        },
        {
          "output_type": "display_data",
          "data": {
            "image/png": "[encoded data removed]",
            "text/plain": [
              "<Figure size 432x288 with 1 Axes>"
            ]
          },
          "metadata": {
            "tags": [],
            "needs_background": "light"
          }
        }
      ]
    },
    {
      "cell_type": "code",
      "metadata": {
        "colab": {
          "base_uri": "https://localhost:8080/"
        },
        "id": "q0UiJUdgALX6",
        "outputId": "176c55af-718c-4c5d-b387-ecae3819e78b"
      },
      "source": [
        "def fact(n):\n",
        "    product = 1\n",
        "    for i in range(n):\n",
        "        product = product * (i+1)\n",
        "    return product\n",
        "\n",
        "print (fact(5))"
      ],
      "execution_count": null,
      "outputs": [
        {
          "output_type": "stream",
          "text": [
            "120\n"
          ],
          "name": "stdout"
        }
      ]
    },
    {
      "cell_type": "code",
      "metadata": {
        "colab": {
          "base_uri": "https://localhost:8080/"
        },
        "id": "tMwplL1KAPeh",
        "outputId": "4d107538-d147-4b7a-9807-9aa368be1815"
      },
      "source": [
        "def fact2(n):\n",
        "    if n == 0:\n",
        "        return 1\n",
        "    else:\n",
        "        return n * fact2(n-1)\n",
        "\n",
        "print (fact2(5))"
      ],
      "execution_count": null,
      "outputs": [
        {
          "output_type": "stream",
          "text": [
            "120\n"
          ],
          "name": "stdout"
        }
      ]
    },
    {
      "cell_type": "code",
      "metadata": {
        "colab": {
          "base_uri": "https://localhost:8080/"
        },
        "id": "DEAnwc-kAVsB",
        "outputId": "4ce0942d-eed4-47a1-fe45-5e38cbe8629a"
      },
      "source": [
        "%timeit fact(100)"
      ],
      "execution_count": null,
      "outputs": [
        {
          "output_type": "stream",
          "text": [
            "100000 loops, best of 3: 8.13 µs per loop\n"
          ],
          "name": "stdout"
        }
      ]
    },
    {
      "cell_type": "code",
      "metadata": {
        "colab": {
          "base_uri": "https://localhost:8080/"
        },
        "id": "5sGniqsSAXhw",
        "outputId": "349398d9-c372-40f3-e916-1ad13b7079b2"
      },
      "source": [
        "%timeit fact2(100)"
      ],
      "execution_count": null,
      "outputs": [
        {
          "output_type": "stream",
          "text": [
            "The slowest run took 4.54 times longer than the fastest. This could mean that an intermediate result is being cached.\n",
            "100000 loops, best of 3: 15.8 µs per loop\n"
          ],
          "name": "stdout"
        }
      ]
    },
    {
      "cell_type": "code",
      "metadata": {
        "colab": {
          "base_uri": "https://localhost:8080/",
          "height": 395
        },
        "id": "jHemy6iQEYeM",
        "outputId": "192a19eb-ed8d-4c24-cc6f-bd260f945968"
      },
      "source": [
        "def f1(n):\n",
        "    return n*n\n",
        "\n",
        "def f2(n):\n",
        "    return n*np.log(n)\n",
        "\n",
        "def f3(n):\n",
        "    return 2**n\n",
        "\n",
        "def f4(n):\n",
        "    return n\n",
        "\n",
        "\n",
        "\n",
        "n = np.arange(0, 100)\n",
        "\n",
        "plt.plot(n, f1(n), c='blue')\n",
        "plt.plot(n, f2(n), c='red')\n",
        "# plt.plot(n, f3(n), c='green')\n",
        "plt.plot(n, f4(n), c='pink')\n",
        "\n",
        "plt.xlabel('Size of input (n)', fontsize=16)\n",
        "plt.ylabel('Number of operations', fontsize=16)\n",
        "# plt.legend(['$\\mathcal{O}(n^2)$', '$\\mathcal{O}(n \\log n)$'], loc='best', fontsize=20);"
      ],
      "execution_count": null,
      "outputs": [
        {
          "output_type": "stream",
          "text": [
            "/usr/local/lib/python3.6/dist-packages/ipykernel_launcher.py:5: RuntimeWarning: divide by zero encountered in log\n",
            "  \"\"\"\n",
            "/usr/local/lib/python3.6/dist-packages/ipykernel_launcher.py:5: RuntimeWarning: invalid value encountered in multiply\n",
            "  \"\"\"\n"
          ],
          "name": "stderr"
        },
        {
          "output_type": "execute_result",
          "data": {
            "text/plain": [
              "Text(0, 0.5, 'Number of operations')"
            ]
          },
          "metadata": {
            "tags": []
          },
          "execution_count": 72
        },
        {
          "output_type": "display_data",
          "data": {
            "image/png": "[encoded data removed]",
            "text/plain": [
              "<Figure size 432x288 with 1 Axes>"
            ]
          },
          "metadata": {
            "tags": [],
            "needs_background": "light"
          }
        }
      ]
    },
    {
      "cell_type": "code",
      "metadata": {
        "id": "LjZVMxK3wOtS"
      },
      "source": [
        ""
      ],
      "execution_count": null,
      "outputs": []
    },
    {
      "cell_type": "code",
      "metadata": {
        "id": "kQLBWZSZwNTd"
      },
      "source": [
        ""
      ],
      "execution_count": null,
      "outputs": []
    },
    {
      "cell_type": "markdown",
      "metadata": {
        "id": "keUeBWVZeRNX"
      },
      "source": [
        "Maximum Sum Subarray problem"
      ]
    },
    {
      "cell_type": "code",
      "metadata": {
        "id": "9SEuHl4UhXKl"
      },
      "source": [
        "def maxSub_nnn(arr, n):\n",
        "  max_sum_nnn = 0\n",
        "  for i in range(0,n):\n",
        " \n",
        "    for j in range(i,n): \n",
        "\n",
        "      sum_nnn = 0   \n",
        "\n",
        "      for k in range(i,j+1):\n",
        "        sum_nnn = sum_nnn + arr[k]\n",
        "\n",
        "\n",
        "      if sum_nnn > max_sum_nnn:\n",
        "        max_sum_nnn = sum_nnn\n",
        "  \n",
        "  return max_sum_nnn"
      ],
      "execution_count": null,
      "outputs": []
    },
    {
      "cell_type": "code",
      "metadata": {
        "colab": {
          "base_uri": "https://localhost:8080/"
        },
        "id": "x_WbjwonhXyZ",
        "outputId": "c1d56acf-45c7-4253-d7fd-56245ff18e5e"
      },
      "source": [
        "arr = [-3, 4, 1, 2, -1, -4, 3]\n",
        "# arr = [-2, 3, 4, -5, 7]\n",
        "# arr = [2, 3, 4, 5, 7] \n",
        "print(\"Maximum Sum Subarray is\", maxSub_nnn(arr,len(arr)))"
      ],
      "execution_count": null,
      "outputs": [
        {
          "output_type": "stream",
          "text": [
            "Maximum sum is 7\n"
          ],
          "name": "stdout"
        }
      ]
    },
    {
      "cell_type": "code",
      "metadata": {
        "id": "BSXhVy9lhYTi"
      },
      "source": [
        "def maxSub_nn(arr, n):\n",
        "  max_sum_nn = 0\n",
        "  for i in range(0,n):\n",
        "    sum_nn = 0\n",
        "    \n",
        "    for j in range(i,n):   \n",
        "      sum_nn = sum_nn + arr[j]\n",
        "\n",
        "      if sum_nn > max_sum_nn:\n",
        "        max_sum_nn = sum_nn\n",
        "  \n",
        "  return max_sum_nn"
      ],
      "execution_count": null,
      "outputs": []
    },
    {
      "cell_type": "code",
      "metadata": {
        "colab": {
          "base_uri": "https://localhost:8080/"
        },
        "id": "anvzdWlHhYuq",
        "outputId": "da5b5de8-8ac8-4b5d-dd48-ae8fd01dbfc8"
      },
      "source": [
        "arr = [-3, 4, 1, 2, -1, -4, 3]\n",
        "# arr = [-2, 3, 4, -5, 7]\n",
        "# arr = [2, 3, 4, 5, 7] \n",
        "print(\"Maximum Sum Subarray is\", maxSub_nn(arr,len(arr)))"
      ],
      "execution_count": null,
      "outputs": [
        {
          "output_type": "stream",
          "text": [
            "Maximum sum is 7\n"
          ],
          "name": "stdout"
        }
      ]
    },
    {
      "cell_type": "code",
      "metadata": {
        "id": "GfkVh-FBrE_O"
      },
      "source": [
        ""
      ],
      "execution_count": null,
      "outputs": []
    },
    {
      "cell_type": "code",
      "metadata": {
        "id": "ZvBawMSeeqxe"
      },
      "source": [
        "# A Divide and Conquer solution for maximum sum subarray problem\n",
        "import sys \n",
        "def maxCrossingSum(arr, low, mid, high):\n",
        "    # Include elements on left of mid.\n",
        "    sum = 0\n",
        "    left_sum = -sys.maxsize\n",
        " \n",
        "    for i in range(mid, low-1, -1):\n",
        "        sum = sum + arr[i]\n",
        " \n",
        "        if (sum > left_sum):\n",
        "            left_sum = sum\n",
        " \n",
        "    # Include elements on right of mid\n",
        "    sum = 0\n",
        "    right_sum = -sys.maxsize\n",
        "    for i in range(mid + 1, high + 1):\n",
        "        sum = sum + arr[i]\n",
        " \n",
        "        if (sum > right_sum):\n",
        "            right_sum = sum\n",
        " \n",
        "    return max(left_sum + right_sum, left_sum, right_sum)\n",
        " \n",
        " \n",
        "def maxSubArraySum(arr, low, high):\n",
        " \n",
        "    # Base Case\n",
        "    if (low == high):\n",
        "        return arr[low]\n",
        " \n",
        "    mid = (low + high) // 2\n",
        " \n",
        "    return max(maxSubArraySum(arr, low, mid),\n",
        "               maxSubArraySum(arr, mid+1, high),\n",
        "               maxCrossingSum(arr, low, mid, high))"
      ],
      "execution_count": null,
      "outputs": []
    },
    {
      "cell_type": "code",
      "metadata": {
        "colab": {
          "base_uri": "https://localhost:8080/"
        },
        "id": "2msHvAltfJQ8",
        "outputId": "4100af2a-c677-4ce6-d8ae-d38dbf66b2ad"
      },
      "source": [
        "# arr = [-3, 4, 1, 2, -1, -4, 3]\n",
        "# arr = [-2, 3, 4, -5, 7]\n",
        "# arr = [2, 3, 4, 5, 7] \n",
        "arr = [-3,2,1,5,4,-1]\n",
        "n = len(arr)\n",
        " \n",
        "max_sum = maxSubArraySum(arr, 0, n-1)\n",
        "print(\"Maximum Sum Subarray is \", max_sum)"
      ],
      "execution_count": null,
      "outputs": [
        {
          "output_type": "stream",
          "text": [
            "Maximum Sum Subarray is  12\n"
          ],
          "name": "stdout"
        }
      ]
    },
    {
      "cell_type": "code",
      "metadata": {
        "id": "zUaeDhEPhBsB"
      },
      "source": [
        "def Kadane(arr,n): \n",
        "\n",
        "   current_maximum = arr[0]   \n",
        "   maximum_so_far =arr[0]  \n",
        "      \n",
        "   for i in range(1,n): \n",
        "      current_maximum = max(arr[i], current_maximum + arr[i]) \n",
        "      maximum_so_far = max(maximum_so_far,current_maximum) \n",
        "          \n",
        "   return maximum_so_far \n",
        "  "
      ],
      "execution_count": null,
      "outputs": []
    },
    {
      "cell_type": "code",
      "metadata": {
        "colab": {
          "base_uri": "https://localhost:8080/"
        },
        "id": "kru_zvSEhDDt",
        "outputId": "e9578781-3ddd-457a-a30b-19a30aaffa60"
      },
      "source": [
        "# arr = [-3, 1, -1, 5, 7, 2, 3, -1] \n",
        "# arr = [-5,-4,-3,-2]\n",
        "print(\"Maximum Sum Subarray is\", Kadane(arr,len(arr)))"
      ],
      "execution_count": null,
      "outputs": [
        {
          "output_type": "stream",
          "text": [
            "Maximum Sum Subarray is -2\n"
          ],
          "name": "stdout"
        }
      ]
    },
    {
      "cell_type": "code",
      "metadata": {
        "colab": {
          "base_uri": "https://localhost:8080/"
        },
        "id": "GoI4O5CdOIyy",
        "outputId": "2f55c4f0-abcd-455c-d776-ee2aba64d225"
      },
      "source": [
        "def mergeSort(arr,n):\n",
        "  if n < 2 :\n",
        "    return\n",
        "  \n",
        "  mid = n//2\n",
        "  left = arr [:mid]\n",
        "  right = arr [mid:]\n",
        "  mergeSort(left,mid)\n",
        "  mergeSort(right,n-mid)\n",
        "  merge(arr, left, right, mid, n-mid)                                               \n",
        "  \n",
        "def merge(arr, left_arr, right_arr, left, right):\n",
        "  i = 0\n",
        "  j = 0\n",
        "  k = 0\n",
        "\n",
        "  while i < left and j < right:\n",
        "    \n",
        "    if left_arr[i] <= right_arr[j] :\n",
        "      arr[k] = left_arr[i]\n",
        "      i+=1\n",
        "    else:\n",
        "      arr[k] = right_arr[j]\n",
        "      j+=1\n",
        "    k+=1\n",
        "\n",
        "  while i < left:\n",
        "    arr[k] = left_arr[i]\n",
        "    i+=1\n",
        "    k+=1\n",
        "\n",
        "  while j < right:\n",
        "    arr[k] = right_arr[j]\n",
        "    j+=1\n",
        "    k+=1\n",
        "\n",
        "\n",
        "arr = [-9,-7, 1, 2,-5,-4,-3,-2]\n",
        "mergeSort(arr,len(arr))\n",
        "print(\"Merge sort \",arr)\n",
        "\n"
      ],
      "execution_count": null,
      "outputs": [
        {
          "output_type": "stream",
          "text": [
            "Merge sort  [-9, -7, -5, -4, -3, -2, 1, 2]\n"
          ],
          "name": "stdout"
        }
      ]
    },
    {
      "cell_type": "code",
      "metadata": {
        "colab": {
          "base_uri": "https://localhost:8080/"
        },
        "id": "fezQuFsPUb3-",
        "outputId": "2218fc47-740c-4213-860d-6492111e9638"
      },
      "source": [
        "def insertionSort(arr, n):\n",
        "  for current in range(1,n):\n",
        "    i = current\n",
        "\n",
        "    while i>0 and arr[i-1] > arr[i]:\n",
        "      arr[i-1], arr[i] = arr[i], arr[i-1]\n",
        "      i-=1\n",
        "\n",
        "arr = [9, 7, 1, 2,-5,-4,-3,-2]\n",
        "insertionSort(arr,len(arr))\n",
        "print(\"Insertion sort \",arr)\n"
      ],
      "execution_count": null,
      "outputs": [
        {
          "output_type": "stream",
          "text": [
            "Insertion sort  [-5, -4, -3, -2, 1, 2, 7, 9]\n"
          ],
          "name": "stdout"
        }
      ]
    },
    {
      "cell_type": "markdown",
      "metadata": {
        "id": "lCPcXXJhHEyn"
      },
      "source": [
        "\n",
        "## **Matrix Multiplication**"
      ]
    },
    {
      "cell_type": "code",
      "metadata": {
        "colab": {
          "base_uri": "https://localhost:8080/"
        },
        "id": "yqUKcHQYYTYE",
        "outputId": "1ea10c22-6109-414c-a2e9-c02b49c5999f"
      },
      "source": [
        "def selectionSort(arr, n):\n",
        "  for current in range(0, n-1):\n",
        "    min = current\n",
        "    for i in range(current+1, n):\n",
        "      if arr[i] < arr[min]:\n",
        "        min = i\n",
        "       \n",
        "    arr[current], arr[min] = arr[min], arr[current]\n",
        "\n",
        "arr = [9, 7, -1, 2,-5,-4,-3,-2]\n",
        "selectionSort(arr,len(arr))\n",
        "print(\"Selection sort \",arr)   \n",
        "  "
      ],
      "execution_count": null,
      "outputs": [
        {
          "output_type": "stream",
          "text": [
            "Selection sort  [-5, -4, -3, -2, -1, 2, 7, 9]\n"
          ],
          "name": "stdout"
        }
      ]
    },
    {
      "cell_type": "code",
      "metadata": {
        "id": "e02jOEEmGwKZ"
      },
      "source": [
        "import numpy as np \n",
        "  \n",
        "def split(matrix): \n",
        "    \"\"\" \n",
        "    Splits a given matrix into quarters. \n",
        "    Input: nxn matrix \n",
        "    Output: tuple containing 4 n/2 x n/2 matrices corresponding to a, b, c, d \n",
        "    \"\"\"\n",
        "    row, col = matrix.shape \n",
        "    row2, col2 = row//2, col//2\n",
        "    return matrix[:row2, :col2], matrix[:row2, col2:], matrix[row2:, :col2], matrix[row2:, col2:] \n",
        "  \n",
        "def matrix_multiply(x, y): \n",
        "    \"\"\" \n",
        "    Computes matrix product by divide and conquer approach, recursively. \n",
        "    Input: nxn matrices x and y \n",
        "    Output: nxn matrix, product of x and y \n",
        "    \"\"\"\n",
        "  \n",
        "    # Base case when size of matrices is 1x1 \n",
        "    if len(x) == 1: \n",
        "        return x * y \n",
        "  \n",
        "    # Splitting the matrices into quadrants. This will be done recursively \n",
        "    # untill the base case is reached. \n",
        "    a, b, c, d = split(x) \n",
        "    e, f, g, h = split(y) \n",
        "  \n",
        "    ##\n",
        "    ## | a  b |  | e  f |     | ae + bg   af + bh |\n",
        "    ## |      |  |      |  =  |                   |\n",
        "    ## | c  d |  | g  h |     | ce + dg   cf + dh |\n",
        "    ##\n",
        "\n",
        "    p1 = matrix_multiply(a, e)  # ae\n",
        "    p2 = matrix_multiply(b, g)  # bg\n",
        "\n",
        "    p3 = matrix_multiply(a, f)  # af      \n",
        "    p4 = matrix_multiply(b, h)  # bh\n",
        "\n",
        "    p5 = matrix_multiply(c, e)  # ce      \n",
        "    p6 = matrix_multiply(d, g)  # dg\n",
        "    \n",
        "    p7 = matrix_multiply(c, f)  # cf\n",
        "    p8 = matrix_multiply(d, h)  # dh\n",
        "       \n",
        "  \n",
        "    # Computing the values of the 4 quadrants of the final matrix c \n",
        "    c11 = p1 + p2   # ae + bg\n",
        "    c12 = p3 + p4   # af + bh         \n",
        "    c21 = p5 + p6   # ce + dg         \n",
        "    c22 = p7 + p8   # cf + dh\n",
        "  \n",
        "    # Combining the 4 quadrants into a single matrix by stacking horizontally and vertically. \n",
        "    c = np.vstack((np.hstack((c11, c12)), np.hstack((c21, c22))))  \n",
        "  \n",
        "    return c "
      ],
      "execution_count": null,
      "outputs": []
    },
    {
      "cell_type": "code",
      "metadata": {
        "colab": {
          "base_uri": "https://localhost:8080/"
        },
        "id": "rqqfNacTN-w8",
        "outputId": "88126a18-cb0f-417d-f4bd-b561ba01ad5f"
      },
      "source": [
        "a = np.array([[1, 0],[0, 1]])\n",
        "b = np.array([[4, 1],[2, 2]])\n",
        "print(matrix_multiply(a,b))"
      ],
      "execution_count": null,
      "outputs": [
        {
          "output_type": "stream",
          "text": [
            "[[4 1]\n",
            " [2 2]]\n"
          ],
          "name": "stdout"
        }
      ]
    },
    {
      "cell_type": "code",
      "metadata": {
        "id": "2JtWRyXaO6qe"
      },
      "source": [
        ""
      ],
      "execution_count": null,
      "outputs": []
    },
    {
      "cell_type": "code",
      "metadata": {
        "colab": {
          "base_uri": "https://localhost:8080/"
        },
        "id": "ngO9dfSXMajI",
        "outputId": "2571b36a-1c66-4fe9-dc58-f9813da38209"
      },
      "source": [
        "a = np.array([[1, 1, 2, 2],\n",
        "              [1, 1, 2, 2],\n",
        "              [3, 3, 4 ,4],\n",
        "              [3, 3, 4, 4]])\n",
        "\n",
        "b = np.array([[5, 5, 6, 6],\n",
        "              [5, 5, 6, 6],\n",
        "              [7, 7, 8 ,8],\n",
        "              [7, 7, 8, 8]])\n",
        "print(matrix_multiply(a,b))"
      ],
      "execution_count": null,
      "outputs": [
        {
          "output_type": "stream",
          "text": [
            "[[ 38  38  44  44]\n",
            " [ 38  38  44  44]\n",
            " [ 86  86 100 100]\n",
            " [ 86  86 100 100]]\n"
          ],
          "name": "stdout"
        }
      ]
    },
    {
      "cell_type": "code",
      "metadata": {
        "id": "M3ijXLg2G5md"
      },
      "source": [
        "import numpy as np \n",
        "  \n",
        "def split(matrix): \n",
        "    \"\"\" \n",
        "    Splits a given matrix into quarters. \n",
        "    Input: nxn matrix \n",
        "    Output: tuple containing 4 n/2 x n/2 matrices corresponding to a, b, c, d \n",
        "    \"\"\"\n",
        "    row, col = matrix.shape \n",
        "    row2, col2 = row//2, col//2\n",
        "    return matrix[:row2, :col2], matrix[:row2, col2:], matrix[row2:, :col2], matrix[row2:, col2:] \n",
        "  \n",
        "def strassen(x, y): \n",
        "    \"\"\" \n",
        "    Computes matrix product by divide and conquer approach, recursively. \n",
        "    Input: nxn matrices x and y \n",
        "    Output: nxn matrix, product of x and y \n",
        "    \"\"\"\n",
        "  \n",
        "    # Base case when size of matrices is 1x1 \n",
        "    if len(x) == 1: \n",
        "        return x * y \n",
        "  \n",
        "    # Splitting the matrices into quadrants. This will be done recursively \n",
        "    # untill the base case is reached. \n",
        "    a, b, c, d = split(x) \n",
        "    e, f, g, h = split(y) \n",
        "  \n",
        "    # Computing the 7 products, recursively (p1, p2...p7) \n",
        "    p1 = strassen(a, f - h)   \n",
        "    p2 = strassen(a + b, h)        \n",
        "    p3 = strassen(c + d, e)        \n",
        "    p4 = strassen(d, g - e)         \n",
        "    p5 = strassen(a + d, e + h)         \n",
        "    p6 = strassen(b - d, g + h)   \n",
        "    p7 = strassen(a - c, e + f)   \n",
        "  \n",
        "    # Computing the values of the 4 quadrants of the final matrix c \n",
        "    c11 = p5 + p4 - p2 + p6   \n",
        "    c12 = p1 + p2            \n",
        "    c21 = p3 + p4             \n",
        "    c22 = p1 + p5 - p3 - p7   \n",
        "  \n",
        "    # Combining the 4 quadrants into a single matrix by stacking horizontally and vertically. \n",
        "    c = np.vstack((np.hstack((c11, c12)), np.hstack((c21, c22))))  \n",
        "  \n",
        "    return c "
      ],
      "execution_count": null,
      "outputs": []
    },
    {
      "cell_type": "code",
      "metadata": {
        "id": "oTfRelqxGt1W"
      },
      "source": [
        ""
      ],
      "execution_count": null,
      "outputs": []
    },
    {
      "cell_type": "code",
      "metadata": {
        "colab": {
          "base_uri": "https://localhost:8080/"
        },
        "id": "fNM6t7OdHYaO",
        "outputId": "9818c37a-50cf-4f5e-c083-324962c8e932"
      },
      "source": [
        "a = np.array([[1, 0],[0, 1]])\n",
        "b = np.array([[4, 1],[2, 2]])\n",
        "np.matmul(a, b)"
      ],
      "execution_count": null,
      "outputs": [
        {
          "output_type": "execute_result",
          "data": {
            "text/plain": [
              "array([[4, 1],\n",
              "       [2, 2]])"
            ]
          },
          "metadata": {
            "tags": []
          },
          "execution_count": 3
        }
      ]
    },
    {
      "cell_type": "code",
      "metadata": {
        "colab": {
          "base_uri": "https://localhost:8080/"
        },
        "id": "riSHfvrrIoqQ",
        "outputId": "5f898731-88b2-4a91-eb6b-dfa2cbc6772d"
      },
      "source": [
        "a = np.array([[1, 1, 2, 2],\n",
        "              [1, 1, 2, 2],\n",
        "              [3, 3, 4 ,4],\n",
        "              [3, 3, 4, 4]])\n",
        "\n",
        "b = np.array([[5, 5, 6, 6],\n",
        "              [5, 5, 6, 6],\n",
        "              [7, 7, 8 ,8],\n",
        "              [7, 7, 8, 8]])\n",
        "np.matmul(a, b)"
      ],
      "execution_count": null,
      "outputs": [
        {
          "output_type": "execute_result",
          "data": {
            "text/plain": [
              "array([[ 38,  38,  44,  44],\n",
              "       [ 38,  38,  44,  44],\n",
              "       [ 86,  86, 100, 100],\n",
              "       [ 86,  86, 100, 100]])"
            ]
          },
          "metadata": {
            "tags": []
          },
          "execution_count": 9
        }
      ]
    },
    {
      "cell_type": "code",
      "metadata": {
        "id": "yo8WePblIo2B"
      },
      "source": [
        ""
      ],
      "execution_count": null,
      "outputs": []
    },
    {
      "cell_type": "code",
      "metadata": {
        "colab": {
          "base_uri": "https://localhost:8080/"
        },
        "id": "C1JNFEYhIKBB",
        "outputId": "791ffe93-e72e-4ef6-8d41-ebe6164af3b5"
      },
      "source": [
        "print(strassen(a,b))"
      ],
      "execution_count": null,
      "outputs": [
        {
          "output_type": "stream",
          "text": [
            "[[ 38  38  44  44]\n",
            " [ 38  38  44  44]\n",
            " [ 86  86 100 100]\n",
            " [ 86  86 100 100]]\n"
          ],
          "name": "stdout"
        }
      ]
    },
    {
      "cell_type": "code",
      "metadata": {
        "colab": {
          "base_uri": "https://localhost:8080/"
        },
        "id": "7Y--Kk-yKgdT",
        "outputId": "ef920206-d72a-4e6b-f851-4d7505abe81e"
      },
      "source": [
        "a.shape\n",
        "row, col = a.shape \n",
        "row2, col2 = row//2, col//2\n",
        "c1 = a[:row2, :col2]\n",
        "c2 = a[:row2, col2:] \n",
        "c3 = a[row2:, :col2]\n",
        "c4 = a[row2:, col2:] \n",
        "\n",
        "print(c1)\n",
        "print(c2)\n",
        "print(c3)\n",
        "print(c4)"
      ],
      "execution_count": null,
      "outputs": [
        {
          "output_type": "stream",
          "text": [
            "[[1 1]\n",
            " [1 1]]\n",
            "[[2 2]\n",
            " [2 2]]\n",
            "[[3 3]\n",
            " [3 3]]\n",
            "[[4 4]\n",
            " [4 4]]\n"
          ],
          "name": "stdout"
        }
      ]
    },
    {
      "cell_type": "markdown",
      "metadata": {
        "id": "up34VNgzerTq"
      },
      "source": [
        "## **Randomized Algorithms**"
      ]
    },
    {
      "cell_type": "markdown",
      "metadata": {
        "id": "p8NjRkXnrsUg"
      },
      "source": [
        "### **Quicksort**"
      ]
    },
    {
      "cell_type": "code",
      "metadata": {
        "id": "R-GgNEsieqRP"
      },
      "source": [
        "\n",
        "def quicksort(arr):\n",
        "    qs(arr, 0, len(arr) - 1)\n",
        "\n",
        "def qs(arr, left_i, right_i):\n",
        "    if left_i >= right_i:\n",
        "        return\n",
        "    \n",
        "    p = partition(arr, left_i, right_i)\n",
        "\n",
        "    qs(arr, left_i, p - 1)\n",
        "    qs(arr, p + 1, right_i)\n",
        "\n",
        "def partition(arr, left_i, right_i):\n",
        "    pivot = arr[right_i]\n",
        "    i = left_i - 1\n",
        "    for curr in range(left_i, right_i):\n",
        "        if arr[curr] < pivot:\n",
        "            i += 1\n",
        "            arr[i], arr[curr] = arr[curr], arr[i]\n",
        "    arr[i + 1], arr[right_i] = arr[right_i], arr[i + 1]\n",
        "    return i + 1"
      ],
      "execution_count": null,
      "outputs": []
    },
    {
      "cell_type": "code",
      "metadata": {
        "id": "sJqQF-IBeq3e"
      },
      "source": [
        "a1 = [3, 2, 1]\n",
        "a2 = [1, 2, 3]\n",
        "a3 = []\n",
        "a4 = [3, 1, -1, 0, 2, 5]\n",
        "a5 = [2, 2, 1, 1, 0, 0, 4, 4, 2, 2, 2]\n",
        "a6 = [0]\n",
        "a7 = [3, -2, -1, 0, 2, 4, 1]\n",
        "a8 = [1, 2, 3, 4, 5, 6, 7]\n",
        "a9 = [2, 2, 2, 2, 2, 2, 2]\n",
        "\n",
        "quicksort(a1)\n",
        "quicksort(a2)\n",
        "quicksort(a3)\n",
        "quicksort(a4)\n",
        "quicksort(a5)\n",
        "quicksort(a6)\n",
        "quicksort(a7)\n",
        "quicksort(a8)\n",
        "quicksort(a9)\n",
        "\n",
        "assert a1 == [1, 2, 3]\n",
        "assert a2 == [1, 2, 3]\n",
        "assert a3 == []\n",
        "assert a4 == [-1, 0, 1, 2, 3, 5]\n",
        "assert a5 == [0, 0, 1, 1, 2, 2, 2, 2, 2, 4, 4]\n",
        "assert a6 == [0]\n",
        "assert a7 == [-2, -1, 0, 1, 2, 3, 4]\n",
        "assert a8 == [1, 2, 3, 4, 5, 6, 7]\n",
        "assert a9 == [2, 2, 2, 2, 2, 2, 2]\n"
      ],
      "execution_count": null,
      "outputs": []
    },
    {
      "cell_type": "markdown",
      "metadata": {
        "id": "gWz4uJrLsmlJ"
      },
      "source": [
        "### **Randomizing arrays**"
      ]
    },
    {
      "cell_type": "markdown",
      "metadata": {
        "id": "ITDZPtl4yaQQ"
      },
      "source": [
        "**Permute-By-Sorting**"
      ]
    },
    {
      "cell_type": "code",
      "metadata": {
        "id": "fk3nZYxyyiSH"
      },
      "source": [
        "from random import randint\n",
        "def permute_by_sorting(arr,n):\n",
        "  P=arr[:n] # \n",
        "  for i in range(0, n):\n",
        "    P[i] = randint(0,n*n*n)\n",
        "\n",
        "  print(\"random elements \",P)\n",
        "  #combining random array and original array\n",
        "  combine = list(zip(P, arr))\n",
        "  print(set(combine))\n",
        "\n",
        "  #sorting original array, based on random array\n",
        "  result = sorted(combine, key=lambda x :x[0])\n",
        "  print(result)\n",
        "\n",
        "  #returning original randomized array\n",
        "  key, value = zip(*result)\n",
        "  return list(value)\n",
        "\n",
        " \n",
        "  \n",
        "\n",
        "\n",
        "\n",
        "\n"
      ],
      "execution_count": null,
      "outputs": []
    },
    {
      "cell_type": "code",
      "metadata": {
        "colab": {
          "base_uri": "https://localhost:8080/"
        },
        "id": "Ft3DoduHyigO",
        "outputId": "fd9b15ee-cac8-40c3-e8e8-7f526acf5516"
      },
      "source": [
        "X=[5,3,2,8,9,6]\n",
        "print(permute_by_sorting(X, len(X)))\n",
        "# print(permute_by_sorting(X, len(X)))\n",
        "# print(permute_by_sorting(X, len(X)))\n",
        "# print(permute_by_sorting(X, len(X)))\n",
        "# print(permute_by_sorting(X, len(X)))\n",
        "# print(permute_by_sorting(X, len(X)))\n"
      ],
      "execution_count": null,
      "outputs": [
        {
          "output_type": "stream",
          "text": [
            "random elements  [190, 44, 99, 139, 123, 47]\n",
            "{(99, 2), (139, 8), (47, 6), (190, 5), (123, 9), (44, 3)}\n",
            "[(44, 3), (47, 6), (99, 2), (123, 9), (139, 8), (190, 5)]\n",
            "[3, 6, 2, 9, 8, 5]\n"
          ],
          "name": "stdout"
        }
      ]
    },
    {
      "cell_type": "markdown",
      "metadata": {
        "id": "CZ5b0bxGt8Ln"
      },
      "source": [
        "**Permute-By-Cyclic**"
      ]
    },
    {
      "cell_type": "code",
      "metadata": {
        "id": "h8xYnfzYer5F"
      },
      "source": [
        "from random import randint\n",
        "def permute_by_cyclic(arr,n):\n",
        "  B=arr[:n]\n",
        "  offset = randint(0,n-1)\n",
        "\n",
        "  for i in range(0, n):\n",
        "    dest = i + offset\n",
        "    \n",
        "    if dest >= n:\n",
        "      dest = dest - n\n",
        "\n",
        "    B[dest] = arr[i]\n",
        "\n",
        "  return B\n"
      ],
      "execution_count": null,
      "outputs": []
    },
    {
      "cell_type": "code",
      "metadata": {
        "colab": {
          "base_uri": "https://localhost:8080/"
        },
        "id": "SS3BzXofsnon",
        "outputId": "dc5d78e7-5c80-42fc-8526-367a1013b3a2"
      },
      "source": [
        "A=[5,3,2,8,9,6]\n",
        "print(permute_by_cyclic(A, len(A)))\n",
        "print(permute_by_cyclic(A, len(A)))\n",
        "print(permute_by_cyclic(A, len(A)))\n",
        "print(permute_by_cyclic(A, len(A)))\n",
        "print(permute_by_cyclic(A, len(A)))\n",
        "print(permute_by_cyclic(A, len(A)))"
      ],
      "execution_count": null,
      "outputs": [
        {
          "output_type": "stream",
          "text": [
            "[5, 3, 2, 8, 9, 6]\n",
            "[5, 3, 2, 8, 9, 6]\n",
            "[8, 9, 6, 5, 3, 2]\n",
            "[8, 9, 6, 5, 3, 2]\n",
            "[9, 6, 5, 3, 2, 8]\n",
            "[2, 8, 9, 6, 5, 3]\n"
          ],
          "name": "stdout"
        }
      ]
    },
    {
      "cell_type": "markdown",
      "metadata": {
        "id": "gWrh2jIp-YqN"
      },
      "source": [
        "## **Dynamic Programming**"
      ]
    },
    {
      "cell_type": "markdown",
      "metadata": {
        "id": "G8c_QKiI_LbP"
      },
      "source": [
        "### **Top-down with Memoization**"
      ]
    },
    {
      "cell_type": "markdown",
      "metadata": {
        "id": "HEzHXhA2_Ucn"
      },
      "source": [
        "**Fibonacci**"
      ]
    },
    {
      "cell_type": "code",
      "metadata": {
        "id": "dDOJ8Yd6_Gk8"
      },
      "source": [
        "# Cache values\n",
        "fibonacci_cache = {}\n",
        "\n",
        "\n",
        "def fibonacci(n):\n",
        "    # if we have cached the value, then return it\n",
        "    if n in fibonacci_cache:\n",
        "        return fibonacci_cache[n]\n",
        "\n",
        "    # compute the nth term\n",
        "    if n == 1:\n",
        "        value = 1\n",
        "    elif n == 2:\n",
        "        value = 1\n",
        "    elif n > 2:\n",
        "        value = fibonacci(n - 1) + fibonacci(n - 2)\n",
        "\n",
        "    # cache the value and return it\n",
        "    fibonacci_cache[n] = value\n",
        "\n",
        "    return value"
      ],
      "execution_count": null,
      "outputs": []
    },
    {
      "cell_type": "code",
      "metadata": {
        "colab": {
          "base_uri": "https://localhost:8080/"
        },
        "id": "EAt9vRwMizTv",
        "outputId": "bf33795c-e2a5-4712-cf1e-309d16ba8809"
      },
      "source": [
        "fibonacci_cache"
      ],
      "execution_count": null,
      "outputs": [
        {
          "output_type": "execute_result",
          "data": {
            "text/plain": [
              "{1: 1, 2: 1, 3: 2, 4: 3, 5: 5, 6: 8, 7: 13, 8: 21, 9: 34, 10: 55}"
            ]
          },
          "metadata": {
            "tags": []
          },
          "execution_count": 3
        }
      ]
    },
    {
      "cell_type": "code",
      "metadata": {
        "colab": {
          "base_uri": "https://localhost:8080/"
        },
        "id": "RK-Zvmrs-rA_",
        "outputId": "e38e3620-022f-470d-8015-60eee4f66a71"
      },
      "source": [
        "fibonacci(10)"
      ],
      "execution_count": null,
      "outputs": [
        {
          "output_type": "execute_result",
          "data": {
            "text/plain": [
              "55"
            ]
          },
          "metadata": {
            "tags": []
          },
          "execution_count": 2
        }
      ]
    },
    {
      "cell_type": "markdown",
      "metadata": {
        "id": "bCyAFlazzcEj"
      },
      "source": [
        "**Longest Common Subsequence**"
      ]
    },
    {
      "cell_type": "code",
      "metadata": {
        "colab": {
          "base_uri": "https://localhost:8080/"
        },
        "id": "iwPeRIXqzQl1",
        "outputId": "124de5d6-6039-4ad4-baae-036f0bc16f91"
      },
      "source": [
        "# recursive implementation of LCS problem \n",
        "maximum = 1000\n",
        "\n",
        "\n",
        "# Returns length of LCS for X[0..m-1], Y[0..n-1] */ \n",
        "# memoization applied in recursive solution \n",
        "def lcs(X, Y, m, n, dp): \n",
        "      \n",
        "    # base case \n",
        "    if (m == 0 or n == 0): \n",
        "        return 0\n",
        "  \n",
        "    # if the same state has already been \n",
        "    # computed \n",
        "    if (dp[m - 1][n - 1] != -1): \n",
        "        return dp[m - 1][n - 1] \n",
        "  \n",
        "    # if equal, then we store the value of the \n",
        "    # function call \n",
        "    if (X[m - 1] == Y[n - 1]): \n",
        "  \n",
        "        # store it in arr to avoid further repetitive \n",
        "        # work in future function calls \n",
        "        dp[m - 1][n - 1] = 1 + lcs(X, Y, m - 1, n - 1, dp) \n",
        "  \n",
        "        return dp[m - 1][n - 1] \n",
        "  \n",
        "    else : \n",
        "  \n",
        "        # store it in arr to avoid further repetitive \n",
        "        # work in future function calls \n",
        "        dp[m - 1][n - 1] = max(lcs(X, Y, m, n - 1, dp), \n",
        "                               lcs(X, Y, m - 1, n, dp)) \n",
        "  \n",
        "        return dp[m - 1][n - 1] \n",
        "  \n",
        "# Driver Code \n",
        "X = \"AGGTAB\"\n",
        "Y = \"GXTXAYB\"\n",
        "# X = \"ACD\"\n",
        "# Y = \"ABC\"\n",
        "m = len(X) \n",
        "n = len(Y) \n",
        "\n",
        "\n",
        "dp = [[-1 for i in range(n)]  \n",
        "          for i in range(m)] \n",
        "  \n",
        "print(\"Length of LCS:\", lcs(X, Y, m, n, dp))\n",
        "print(\"dp \",dp)"
      ],
      "execution_count": null,
      "outputs": [
        {
          "output_type": "stream",
          "text": [
            "Length of LCS: 4\n",
            "dp  [[0, 0, 0, 0, 1, 1, -1], [1, 1, 1, 1, 1, 1, -1], [1, 1, 1, 1, 1, 1, -1], [-1, -1, 2, 2, 2, 2, -1], [-1, -1, -1, -1, 3, 3, -1], [-1, -1, -1, -1, -1, -1, 4]]\n"
          ],
          "name": "stdout"
        }
      ]
    },
    {
      "cell_type": "code",
      "metadata": {
        "colab": {
          "base_uri": "https://localhost:8080/"
        },
        "id": "N5z14YPgm0y2",
        "outputId": "12d812a1-42a4-4c78-cad3-bab282263a80"
      },
      "source": [
        "dp = [[-1 for i in range(3)]  \n",
        "          for i in range(2)]\n",
        "\n",
        "print(dp) "
      ],
      "execution_count": null,
      "outputs": [
        {
          "output_type": "stream",
          "text": [
            "[[-1, -1, -1], [-1, -1, -1]]\n"
          ],
          "name": "stdout"
        }
      ]
    },
    {
      "cell_type": "markdown",
      "metadata": {
        "id": "dLHJONpCBbyn"
      },
      "source": [
        "### **Bottom-up with Tabulation**"
      ]
    },
    {
      "cell_type": "markdown",
      "metadata": {
        "id": "PLzYEiQSBhNe"
      },
      "source": [
        "**Fibonacci**"
      ]
    },
    {
      "cell_type": "code",
      "metadata": {
        "colab": {
          "base_uri": "https://localhost:8080/"
        },
        "id": "DDmFfFsuBTO8",
        "outputId": "dd2585c2-87c7-4815-e53c-bbffcacfdad4"
      },
      "source": [
        "def fibonacci_2(n):\n",
        "  dp = [0, 1]\n",
        "  for i in range(2, n + 1):\n",
        "    dp.append(dp[i - 1] + dp[i - 2])\n",
        "\n",
        "  return dp[n]\n",
        "\n",
        "fibonacci_2(100)"
      ],
      "execution_count": null,
      "outputs": [
        {
          "output_type": "execute_result",
          "data": {
            "text/plain": [
              "354224848179261915075"
            ]
          },
          "metadata": {
            "tags": []
          },
          "execution_count": 116
        }
      ]
    },
    {
      "cell_type": "markdown",
      "metadata": {
        "id": "LpBjF40AFy9T"
      },
      "source": [
        "**Rod Cutting Problem**"
      ]
    },
    {
      "cell_type": "code",
      "metadata": {
        "id": "RKN_5LLZZazZ"
      },
      "source": [
        "def rodCut(price, n):\n",
        " \n",
        "    # `T[i]` stores the maximum profit achieved from a rod of length `i`\n",
        "    T = [0] * (n + 1)\n",
        " \n",
        "    # consider a rod of length `i`\n",
        "    for i in range(1, n + 1):\n",
        "        # divide the rod of length `i` into two rods of length `j`\n",
        "        # and `i-j` each and take maximum\n",
        "        for j in range(1, i + 1):\n",
        "            #T[0,1,5,8,10]\n",
        "\n",
        "            #T[1] = max(T[1], price[0] + T[0]) =max(0,1+0)=1\n",
        "\n",
        "            #T[2] = max(T[2], price[0] + T[1]) =max(0,1+1)=2\n",
        "            #T[2] = max(T[2], price[1] + T[0]) =max(2,5+0)=5\n",
        "\n",
        "            #T[3] = max(T[3], price[0] + T[2]) =max(0,1+5)=6\n",
        "            #T[3] = max(T[3], price[1] + T[1]) =max(6,5+1)=6\n",
        "            #T[3] = max(T[3], price[2] + T[0]) =max(6,8+0)=8\n",
        "\n",
        "            #T[4] = max(T[4], price[0] + T[3]) =max(0,1+8)=9\n",
        "            #T[4] = max(T[4], price[1] + T[2]) =max(9,5+5)=10\n",
        "            #T[4] = max(T[4], price[2] + T[1]) =max(10,8+1)=10\n",
        "            #T[4] = max(T[4], price[3] + T[0]) =max(10,8+0)=10\n",
        "\n",
        "            T[i] = max(T[i], price[j - 1] + T[i - j])\n",
        " \n",
        "    # `T[n]` stores the maximum profit achieved from a rod of length `n`\n",
        "    return T[n]"
      ],
      "execution_count": null,
      "outputs": []
    },
    {
      "cell_type": "code",
      "metadata": {
        "colab": {
          "base_uri": "https://localhost:8080/"
        },
        "id": "Itq_vSmrjtqm",
        "outputId": "3db468fa-0220-4250-dc8a-feed70ad1dda"
      },
      "source": [
        "C= [1,5,8,9]\n",
        "rodCut(C, len(C))"
      ],
      "execution_count": null,
      "outputs": [
        {
          "output_type": "execute_result",
          "data": {
            "text/plain": [
              "10"
            ]
          },
          "metadata": {
            "tags": []
          },
          "execution_count": 24
        }
      ]
    },
    {
      "cell_type": "code",
      "metadata": {
        "colab": {
          "base_uri": "https://localhost:8080/"
        },
        "id": "J10CY1vEhq_R",
        "outputId": "8d02db4d-7607-46a9-8766-dee48a64a991"
      },
      "source": [
        "def ActivitySelection(start, finish, n):\n",
        "    print(\"The following activities are selected:\");\n",
        "    j = 0\n",
        "    print(j,end=\" \")\n",
        "    for i in range(1,n):\n",
        "        if start[i] >= finish[j]:\n",
        "            print(i,end=\" \")\n",
        "            j = i\n",
        "\n",
        "start = [1, 3, 2, 0, 5, 8, 11]\n",
        "finish = [3, 4, 5, 7, 9, 10, 12]\n",
        "n = len(start)\n",
        "ActivitySelection(start, finish, n)"
      ],
      "execution_count": null,
      "outputs": [
        {
          "output_type": "stream",
          "text": [
            "The following activities are selected:\n",
            "0 1 4 6 "
          ],
          "name": "stdout"
        }
      ]
    },
    {
      "cell_type": "code",
      "metadata": {
        "colab": {
          "base_uri": "https://localhost:8080/"
        },
        "id": "mzLqrHHG88Zb",
        "outputId": "c5b95d07-576a-4277-cc21-dc3458f6c675"
      },
      "source": [
        "def huffman(freqtable):\n",
        "\n",
        "    from collections import defaultdict \n",
        "    from heapq import heappush, heappop, heapify\n",
        "\n",
        "    # mapping of letters to codes\n",
        "    code = defaultdict(list)#{ [] }\n",
        "\n",
        "    # Using a heap makes it easy to pull items with lowest frequency.\n",
        "    # Items in the heap are tuples containing a list of letters and the\n",
        "    # combined frequencies of the letters in the list.\n",
        "    heap = [ ( freq, [ ltr ] ) for ltr,freq in freqtable.items() ]\n",
        "    print(heap)\n",
        "    heapify(heap)\n",
        "    print(heap)\n",
        "    # Reduce the heap to a single item by combining the two items\n",
        "    # with the lowest frequencies.\n",
        "    while len(heap) > 1:\n",
        "        print(f\"Heap before first pop is {heap}\")\n",
        "        freq0,letters0 = heappop(heap)\n",
        "        print(f\"When we insert 0 the frequency {freq0} of Letters {letters0}\")\n",
        "        for ltr in letters0:\n",
        "            code[ltr].insert(0,'0')\n",
        "\n",
        "        print(f\"Heap before second pop is {heap}\")\n",
        "        \n",
        "        freq1,letters1 = heappop(heap)\n",
        "        print(f\"When we insert 1 the frequency {freq1} of Letters {letters1}\")\n",
        "        \n",
        "        for ltr in letters1:\n",
        "            code[ltr].insert(0,'1')\n",
        "\n",
        "        print(f\"Heap before push is {heap}\")\n",
        "        \n",
        "        heappush(heap, ( freq0+freq1, letters0+letters1))\n",
        "        print(f\"Heap after push is {heap}\")\n",
        "\n",
        "        print(f\"Codes are {code}\\n\")\n",
        "    for k,v in code.items():\n",
        "        code[k] = ''.join(v)\n",
        "\n",
        "    return code\n",
        "\n",
        "freqtable = dict(a=45, b=13, c=12, d=16, e=9, f=5)\n",
        "print(sorted(huffman(freqtable).items()))"
      ],
      "execution_count": null,
      "outputs": [
        {
          "output_type": "stream",
          "text": [
            "[(45, ['a']), (13, ['b']), (12, ['c']), (16, ['d']), (9, ['e']), (5, ['f'])]\n",
            "[(5, ['f']), (9, ['e']), (12, ['c']), (16, ['d']), (13, ['b']), (45, ['a'])]\n",
            "Heap before first pop is [(5, ['f']), (9, ['e']), (12, ['c']), (16, ['d']), (13, ['b']), (45, ['a'])]\n",
            "When we insert 0 the frequency 5 of Letters ['f']\n",
            "Heap before second pop is [(9, ['e']), (13, ['b']), (12, ['c']), (16, ['d']), (45, ['a'])]\n",
            "When we insert 1 the frequency 9 of Letters ['e']\n",
            "Heap before push is [(12, ['c']), (13, ['b']), (45, ['a']), (16, ['d'])]\n",
            "Heap after push is [(12, ['c']), (13, ['b']), (45, ['a']), (16, ['d']), (14, ['f', 'e'])]\n",
            "Codes are defaultdict(<class 'list'>, {'f': ['0'], 'e': ['1']})\n",
            "\n",
            "Heap before first pop is [(12, ['c']), (13, ['b']), (45, ['a']), (16, ['d']), (14, ['f', 'e'])]\n",
            "When we insert 0 the frequency 12 of Letters ['c']\n",
            "Heap before second pop is [(13, ['b']), (14, ['f', 'e']), (45, ['a']), (16, ['d'])]\n",
            "When we insert 1 the frequency 13 of Letters ['b']\n",
            "Heap before push is [(14, ['f', 'e']), (16, ['d']), (45, ['a'])]\n",
            "Heap after push is [(14, ['f', 'e']), (16, ['d']), (45, ['a']), (25, ['c', 'b'])]\n",
            "Codes are defaultdict(<class 'list'>, {'f': ['0'], 'e': ['1'], 'c': ['0'], 'b': ['1']})\n",
            "\n",
            "Heap before first pop is [(14, ['f', 'e']), (16, ['d']), (45, ['a']), (25, ['c', 'b'])]\n",
            "When we insert 0 the frequency 14 of Letters ['f', 'e']\n",
            "Heap before second pop is [(16, ['d']), (25, ['c', 'b']), (45, ['a'])]\n",
            "When we insert 1 the frequency 16 of Letters ['d']\n",
            "Heap before push is [(25, ['c', 'b']), (45, ['a'])]\n",
            "Heap after push is [(25, ['c', 'b']), (45, ['a']), (30, ['f', 'e', 'd'])]\n",
            "Codes are defaultdict(<class 'list'>, {'f': ['0', '0'], 'e': ['0', '1'], 'c': ['0'], 'b': ['1'], 'd': ['1']})\n",
            "\n",
            "Heap before first pop is [(25, ['c', 'b']), (45, ['a']), (30, ['f', 'e', 'd'])]\n",
            "When we insert 0 the frequency 25 of Letters ['c', 'b']\n",
            "Heap before second pop is [(30, ['f', 'e', 'd']), (45, ['a'])]\n",
            "When we insert 1 the frequency 30 of Letters ['f', 'e', 'd']\n",
            "Heap before push is [(45, ['a'])]\n",
            "Heap after push is [(45, ['a']), (55, ['c', 'b', 'f', 'e', 'd'])]\n",
            "Codes are defaultdict(<class 'list'>, {'f': ['1', '0', '0'], 'e': ['1', '0', '1'], 'c': ['0', '0'], 'b': ['0', '1'], 'd': ['1', '1']})\n",
            "\n",
            "Heap before first pop is [(45, ['a']), (55, ['c', 'b', 'f', 'e', 'd'])]\n",
            "When we insert 0 the frequency 45 of Letters ['a']\n",
            "Heap before second pop is [(55, ['c', 'b', 'f', 'e', 'd'])]\n",
            "When we insert 1 the frequency 55 of Letters ['c', 'b', 'f', 'e', 'd']\n",
            "Heap before push is []\n",
            "Heap after push is [(100, ['a', 'c', 'b', 'f', 'e', 'd'])]\n",
            "Codes are defaultdict(<class 'list'>, {'f': ['1', '1', '0', '0'], 'e': ['1', '1', '0', '1'], 'c': ['1', '0', '0'], 'b': ['1', '0', '1'], 'd': ['1', '1', '1'], 'a': ['0']})\n",
            "\n",
            "[('a', '0'), ('b', '101'), ('c', '100'), ('d', '111'), ('e', '1101'), ('f', '1100')]\n"
          ],
          "name": "stdout"
        }
      ]
    },
    {
      "cell_type": "code",
      "metadata": {
        "colab": {
          "base_uri": "https://localhost:8080/"
        },
        "id": "YESy9Sx99RqN",
        "outputId": "dd9d2e86-8cb0-4778-b06c-133b8f8baa5f"
      },
      "source": [
        "freqtable"
      ],
      "execution_count": null,
      "outputs": [
        {
          "output_type": "execute_result",
          "data": {
            "text/plain": [
              "{'a': 45, 'b': 13, 'c': 12, 'd': 16, 'e': 9, 'f': 5, 'h': 5}"
            ]
          },
          "metadata": {
            "tags": []
          },
          "execution_count": 27
        }
      ]
    },
    {
      "cell_type": "code",
      "metadata": {
        "colab": {
          "base_uri": "https://localhost:8080/"
        },
        "id": "8IgRZcso9_0D",
        "outputId": "116c358f-62e8-48cb-f45b-81c005e57600"
      },
      "source": [
        "huffman(freqtable).items()"
      ],
      "execution_count": null,
      "outputs": [
        {
          "output_type": "execute_result",
          "data": {
            "text/plain": [
              "dict_items([('f', '1100'), ('e', '1101'), ('c', '100'), ('b', '101'), ('d', '111'), ('a', '0')])"
            ]
          },
          "metadata": {
            "tags": []
          },
          "execution_count": 37
        }
      ]
    },
    {
      "cell_type": "code",
      "metadata": {
        "colab": {
          "base_uri": "https://localhost:8080/"
        },
        "id": "PVMA6qGz-UsN",
        "outputId": "7328bfa2-d2f7-4de5-cddc-52f70bb90c70"
      },
      "source": [
        "from collections import defaultdict \n",
        "from heapq import heappush, heappop, heapify\n",
        "defaultdict(list)\n",
        "heap1 = [ ( freq, [ ltr ] ) for ltr,freq in freqtable.items() ]\n",
        "heap1"
      ],
      "execution_count": null,
      "outputs": [
        {
          "output_type": "execute_result",
          "data": {
            "text/plain": [
              "[(45, ['a']), (13, ['b']), (12, ['c']), (16, ['d']), (9, ['e']), (5, ['f'])]"
            ]
          },
          "metadata": {
            "tags": []
          },
          "execution_count": 58
        }
      ]
    },
    {
      "cell_type": "code",
      "metadata": {
        "colab": {
          "base_uri": "https://localhost:8080/"
        },
        "id": "1z580hguAbsJ",
        "outputId": "df04d9bc-da90-4675-d003-583e59086733"
      },
      "source": [
        "heapify(heap1)\n",
        "print(heap1)"
      ],
      "execution_count": null,
      "outputs": [
        {
          "output_type": "stream",
          "text": [
            "[(5, ['f']), (9, ['e']), (12, ['c']), (16, ['d']), (13, ['b']), (45, ['a'])]\n"
          ],
          "name": "stdout"
        }
      ]
    },
    {
      "cell_type": "markdown",
      "metadata": {
        "id": "ULP70Di3PLy-"
      },
      "source": [
        "## **Graph Algorithms**"
      ]
    },
    {
      "cell_type": "markdown",
      "metadata": {
        "id": "yH9c4ya-QyED"
      },
      "source": [
        "### **DFS algorithm**"
      ]
    },
    {
      "cell_type": "markdown",
      "metadata": {
        "id": "DM5uWuAmQRAN"
      },
      "source": [
        "![image.png](data:image/png;base64,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)"
      ]
    },
    {
      "cell_type": "code",
      "metadata": {
        "colab": {
          "base_uri": "https://localhost:8080/"
        },
        "id": "ez0vQHPrPT1N",
        "outputId": "d8c62877-9324-44b5-8510-fa306c3a7627"
      },
      "source": [
        "# DFS algorithm\n",
        "visited = set() # Set to keep track of visited nodes.\n",
        "\n",
        "def dfs(visited, graph, node):\n",
        "    if node not in visited:\n",
        "        print (node)\n",
        "        visited.add(node)\n",
        "        for neighbour in graph[node]:\n",
        "            print(f\"neighbour of {node} is {neighbour}\")\n",
        "            dfs(visited, graph, neighbour)\n",
        "\n",
        "\n",
        "\n",
        "graph = {'0': ['1', '2', '3'],\n",
        "         '1': ['0', '2'],\n",
        "         '2': ['0', '4', '1'],\n",
        "         '3': ['0'],\n",
        "         '4': ['2']}\n",
        "\n",
        "dfs(visited, graph, '0')\n",
        "\n",
        "\n"
      ],
      "execution_count": null,
      "outputs": [
        {
          "output_type": "stream",
          "text": [
            "0\n",
            "neighbour of 0 is 1\n",
            "1\n",
            "neighbour of 1 is 0\n",
            "neighbour of 1 is 2\n",
            "2\n",
            "neighbour of 2 is 0\n",
            "neighbour of 2 is 4\n",
            "4\n",
            "neighbour of 4 is 2\n",
            "neighbour of 2 is 1\n",
            "neighbour of 0 is 2\n",
            "neighbour of 0 is 3\n",
            "3\n",
            "neighbour of 3 is 0\n"
          ],
          "name": "stdout"
        }
      ]
    },
    {
      "cell_type": "code",
      "metadata": {
        "id": "6eYdQfMiynJb"
      },
      "source": [
        ""
      ],
      "execution_count": null,
      "outputs": []
    },
    {
      "cell_type": "code",
      "metadata": {
        "id": "Plcr0gEdyn7R"
      },
      "source": [
        ""
      ],
      "execution_count": null,
      "outputs": []
    },
    {
      "cell_type": "markdown",
      "metadata": {
        "id": "rfARRVogQ6-y"
      },
      "source": [
        "### **BFS algorithm**"
      ]
    },
    {
      "cell_type": "code",
      "metadata": {
        "colab": {
          "base_uri": "https://localhost:8080/"
        },
        "id": "rX0csvzyQ70d",
        "outputId": "faa6f09c-5db5-4def-ca00-344dadd5b2e1"
      },
      "source": [
        "import collections\n",
        "\n",
        "# BFS algorithm\n",
        "def bfs(graph, root):\n",
        "\n",
        "    visited, queue = set(), collections.deque([root])\n",
        "    visited.add(root)\n",
        "\n",
        "    while queue:\n",
        "\n",
        "        # Dequeue a vertex from queue\n",
        "        vertex = queue.popleft()\n",
        "\n",
        "        print(f\"{vertex} \",end = \" \")\n",
        "        \n",
        "\n",
        "        # If not visited, mark it as visited, and\n",
        "        # enqueue it\n",
        "        for neighbour in graph[vertex]:\n",
        "\n",
        "            if neighbour not in visited:\n",
        "                visited.add(neighbour)\n",
        "                queue.append(neighbour)\n",
        "\n",
        "            print(f\"neighbour >> {neighbour}\")\n",
        "            print(f\"queue >> {queue}\")\n",
        "            \n",
        "\n",
        "graph = {'0': ['1', '2', '3'],\n",
        "         '1': ['0', '2'],\n",
        "         '2': ['0', '4', '1'],\n",
        "         '3': ['0'],\n",
        "         '4': ['2']}\n",
        "\n",
        "print(\"Following is Breadth First Traversal: \")\n",
        "bfs(graph, '0')"
      ],
      "execution_count": null,
      "outputs": [
        {
          "output_type": "stream",
          "text": [
            "Following is Breadth First Traversal: \n",
            "0  neighbour >> 1\n",
            "queue >> deque(['1'])\n",
            "neighbour >> 2\n",
            "queue >> deque(['1', '2'])\n",
            "neighbour >> 3\n",
            "queue >> deque(['1', '2', '3'])\n",
            "1  neighbour >> 0\n",
            "queue >> deque(['2', '3'])\n",
            "neighbour >> 2\n",
            "queue >> deque(['2', '3'])\n",
            "2  neighbour >> 0\n",
            "queue >> deque(['3'])\n",
            "neighbour >> 4\n",
            "queue >> deque(['3', '4'])\n",
            "neighbour >> 1\n",
            "queue >> deque(['3', '4'])\n",
            "3  neighbour >> 0\n",
            "queue >> deque(['4'])\n",
            "4  neighbour >> 2\n",
            "queue >> deque([])\n"
          ],
          "name": "stdout"
        }
      ]
    },
    {
      "cell_type": "markdown",
      "metadata": {
        "id": "2mnyrZ8yReNa"
      },
      "source": [
        "### **Dijkstra's Algorithm**"
      ]
    },
    {
      "cell_type": "markdown",
      "metadata": {
        "id": "7qIiPi3sSNBZ"
      },
      "source": [
        "![image.png](data:image/png;base64,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)"
      ]
    },
    {
      "cell_type": "code",
      "metadata": {
        "colab": {
          "base_uri": "https://localhost:8080/"
        },
        "id": "Xi2qP__BRfDq",
        "outputId": "b64917aa-0f0a-4f56-a695-78d59da3676a"
      },
      "source": [
        "# Dijkstra's Algorithm in Python\n",
        "\n",
        "\n",
        "import sys\n",
        "\n",
        "# Providing the graph\n",
        "vertices = [[0, 0, 1, 1, 0, 0, 0],\n",
        "            [0, 0, 1, 0, 0, 1, 0],\n",
        "            [1, 1, 0, 1, 1, 0, 0],\n",
        "            [1, 0, 1, 0, 0, 0, 1],\n",
        "            [0, 0, 1, 0, 0, 1, 0],\n",
        "            [0, 1, 0, 0, 1, 0, 1],\n",
        "            [0, 0, 0, 1, 0, 1, 0]]\n",
        "\n",
        "edges = [[0, 0, 1, 2, 0, 0, 0],\n",
        "         [0, 0, 2, 0, 0, 3, 0],\n",
        "         [1, 2, 0, 1, 3, 0, 0],\n",
        "         [2, 0, 1, 0, 0, 0, 1],\n",
        "         [0, 0, 3, 0, 0, 2, 0],\n",
        "         [0, 3, 0, 0, 2, 0, 1],\n",
        "         [0, 0, 0, 1, 0, 1, 0]]\n",
        "\n",
        "# Find which vertex is to be visited next\n",
        "def to_be_visited():\n",
        "    global visited_and_distance\n",
        "    v = -10\n",
        "    for index in range(num_of_vertices):\n",
        "        if visited_and_distance[index][0] == 0 and (v < 0 or visited_and_distance[index][1] <= visited_and_distance[v][1]):\n",
        "            v = index\n",
        "    return v\n",
        "\n",
        "\n",
        "num_of_vertices = len(vertices[0])\n",
        "\n",
        "visited_and_distance = [[0, 0]]\n",
        "for i in range(num_of_vertices-1):\n",
        "    visited_and_distance.append([0, sys.maxsize])\n",
        "\n",
        "for vertex in range(num_of_vertices):\n",
        "\n",
        "    # Find next vertex to be visited\n",
        "    to_visit = to_be_visited()\n",
        "    for neighbor_index in range(num_of_vertices):\n",
        "\n",
        "        # Updating new distances\n",
        "        if vertices[to_visit][neighbor_index] == 1 and visited_and_distance[neighbor_index][0] == 0:\n",
        "\n",
        "            new_distance = visited_and_distance[to_visit][1] + edges[to_visit][neighbor_index]\n",
        "\n",
        "            if visited_and_distance[neighbor_index][1] > new_distance:\n",
        "\n",
        "                visited_and_distance[neighbor_index][1] = new_distance\n",
        "        \n",
        "        visited_and_distance[to_visit][0] = 1\n",
        "\n",
        "i = 0\n",
        "\n",
        "# Printing the distance\n",
        "for distance in visited_and_distance:\n",
        "    print(\"Distance of \", chr(ord('a') + i),\n",
        "          \" from source vertex: \", distance[1])\n",
        "    i = i + 1"
      ],
      "execution_count": null,
      "outputs": [
        {
          "output_type": "stream",
          "text": [
            "Distance of  a  from source vertex:  0\n",
            "Distance of  b  from source vertex:  3\n",
            "Distance of  c  from source vertex:  1\n",
            "Distance of  d  from source vertex:  2\n",
            "Distance of  e  from source vertex:  4\n",
            "Distance of  f  from source vertex:  4\n",
            "Distance of  g  from source vertex:  3\n"
          ],
          "name": "stdout"
        }
      ]
    },
    {
      "cell_type": "markdown",
      "metadata": {
        "id": "fb31KPbOSF5l"
      },
      "source": [
        "![DAG.PNG](data:image/png;base64,iVBORw0KGgoAAAANSUhEUgAAAYkAAAEPCAYAAAC3NDh4AAAAAXNSR0IArs4c6QAAAARnQU1BAACxjwv8YQUAAAAJcEhZcwAADsMAAA7DAcdvqGQAAC4QSURBVHhe7Z2LX1TVGvffv4NzKo9lFz3leEfT1ApTlEALsiTsQlZeSkXMSCUrFfNC2BGRVBJ9zTIhL0weDU0Fj/oKedKyoxVpJ4o61iHpgGn93vVs1tgAs2cG2AN7z/y+z2c+a9Yze+8lznrmt9bez177/4AQQggxgSJBCCHEFIoEIYQQUygShBBCTKFIEEIIMYUiQQghxBSKBCGEEFMoEoQQQkyhSBBCCDGFIkEIIcQUigQhhBBTKBKEEEJMoUgQQggxhSJBCCHEFIoEIYQQUygShBBCTKFIEEIIMYUiQQghxBSKBCGEEFMoEoQQQkyhSBBCCDGFIkEIIcQUigQhhBBTKBKEEEJMoUgQQggxhSJBCCHEFIoEIYQQUygShBBCTKFIEEIIMYUiQQghxBSKBCGEEFMoEoQQQkyhSBBCCDGFIkEIIcQUigQhhBBTKBKEEEJMoUgQQggxhSJBCCHEFIoEIYQQUygShBBCTKFIEEIIMYUiQQghxBSKBCGEEFMoEoQQQkyhSBBCCDGFIkEIIcQUigQhhBBTKBKEEEJMoUgQQggxhSJBCCHEFIoEIYQQUygShBBCTKFIEEIIMcVxInHq1CmsXLkS41PGo+/AvujStQuioqKMUuril89lO0IIY4a0D8eIRHFxMUbFj4Ir2oWkzCSkudPwatWryKvPw1plUkpd/PK5bCfby36ERCLNY2ameyaWVi3F6vrVWKdMSqmLnzFDzLC9SMjoJiEpAUMThiLdnY4CZW96mb+6bC/7yf4cJZFIwRMzwxKGYZZ71tV4EAsUP7K97MeYIR5sLRJbtmwxpsWTCyZjYztM9pfjyPEICWcYM8RqbCsS+fn56BXdC1mVWXhL2WZl7SnlOHI8OS4h4YgnZpZULmnR/9tSynEYM8SWIiGjF+mcuVW5eMdCk+PJcTk6IuEGY4aECtuJhJwHlWnu8srlKFK2TZmVpRxXjs/zrSRc8MTMisoVLfq7FaUclzETudhOJMYmjcXMgpnYHkKT40s7hIQDjBkSSmwlEpJ6d1fCXShRtkuZ3/LCSjw7YzBuUyOcKFcfjJgzB6trg9hPl9IOU/06glqUznEhalIRarSHWIcnZoLp9++dfRmTJ/fBLTpm7nl5Pt6oDbyfp2TMRCa2EonY+Fgsci/Cbm3vK/O8b1K/sBTJrijccv8DmO3OxtLiqYgbpDr+mKnIb/Bs7Wd/ZdKOtEdCy7niKXDJjxJFIiR4x4y//r77/IsYJzEzcRJeLG0aM6vqGrfxu7+yhe6FjJkIxDYiIec7e0f3xl4v+0CZr/ra3IFqJPQYVtZ5fX7+JdyrfoxGbtl81We2v8ekPZ5nDSHni5AaFYe4MRSJUNA8Zsz7+3Ysn6O+g5hnsLrB86n6vGoeRqqYuW/n1sa66f5/1BkzkYdtREKWBUjNTMV+ZfuUmZcFmBUThe7Z+c38JciWQJi0EEVN/OaltCftkhBQdxw5ShxSt57D8WyKRCjwxEygfr4P65Exfijuzl/f1F+bjYlKJOKLi5r6/ZSMmcjDNiLxUMpDWOZehoPaDijzvG9Sr1mGRNWxE4q3608aTT5/d1MMoqKmYJ2uN/+8eV3ak3aJ1TQoYYiDa1oRzqkaRSI0eMdMMP3du/7BhQ1YPHeompEnYll18PszZiIP24hE/4H9sa1qGw4rK/eyFvXqJRirRGLqUV33+nxX8VglEuOQVe3x+Njfqy7tSbvEWmr3ZMDlykDphcY6RSI0SN8tqiq62p/FAsYP3kSaih9JaY2KGo3nTx3w+jTw/tIeYyaysI1I/KXrX3Co/hCOKDuqzLSsegVjVAdPr2j5+e7i+wyRWFrtYz8fpbQn7RILOV+EKa445FQ0aAdFIlRI3z1Yf7BFv/Zb1r2LtaVr8Yb7FTw9sYeKl+EqlspabmdSSnuMmcjCNiIhI5vjwVj1ctyvtn32qJdP297i+9Vx7sfyam+vf2scUfHVlldLzmFzchTiso/jD4kIXiR8tcGX/5d3X269lWCx+r6iYubiHS9vIJN2CwsL9bdGwh1bzSSO1R/DR8pOKDMta/6Gh1QnTSze19SvbPemUaoDz8CWZn6zUtrjqMhCKnKa/ID5fCkBIdYgffdo/dEW/bo15ftbE9X3kojs6uC2l/a6dOmC2NhYzJgxA5cuXdL/GhKu2EYkBgwcgL9X/R0nA1oxXoyJwl+z3/HyiR3Besluenwl9np5/Zm0J+0Si7hwBmXlZS1eBenqexmfhRKpn63VG5P2EnTM1KzHU8P/isfcR7y9hu3dFKtEYgJW13h7zc07ZubOnYthw4bhyJEjRp2EJ7YRiQkpE/CG+w18quy0Mn/lztw7EOV6FpvrvPznX8cDaqSasKX06naBSmlP2iWhhdckQkNySjLy3fkt+nXLcicWqIFVVPIKlHr767ZhrtzD0tzvp5T2pF0P7777Lrp164bVq1drDwk3bCMSkns9PXM6zgRj1WuR4lKde8wTeNX9NjYWz8d44+7R+Siu89ougEl7zPkOPRSJ0NCamDlVMR8xahDVZ9J85Ja+jbfdr+KJ+29Vg60U5J733tK/+YqZL7/8EklJSZg0aRJ+/PFH7SXhgm1EQu7i7BfdD18o+1KZlB7zWa/ZioUzYtBXznO7BmHcnBzsrvX63MvM6tIe7x4NPRSJ0OCJmWD7+z9P52HmxEG49WrMLMXWmuDjRcxfzCxevBj9+vXDBx98oD0kHLCNSAhx8XEodBfiKy87p8xXPVDpMbP6BvcGoz1CnIz0YenLzft3oHrz0mP+6sHEzO7du9GzZ08sW7ZMe4jTsZVIyAqToxNG499e9rWyUNSlHa5oSZxO85ixKj581YONme+++w6PPvooJkyYgK+//lp7iVOxlUgIiUmJyCnIwbchNDm+tENIOGDXmMnJyUH37t2xY8cO7SFOxHYiIec7JZ++tLIUPyj7XpmVpRxXjs9rESRc8MTMvsp9Lfq7FaUct60xc+jQIdx+++1YsGCB9hCnYTuREOR5ugOiB+BE1Qn8aKHJ8Xq6evJ5vSTskD4t1wJCETMSi+2JmYsXL2Lq1KlISEjA6dOntZc4BVuKhJCfn290zkOVh/Czslpl7SnlOL379MbNN9+MF198UbdCiPO5fPky5s+fj1tuucXo42WVZS36f1tKOY7EoMSiFaxbtw7XXXcd3nrrLe0hTsC2IiHI6EWmuWsK1uCXdpjsL8eR49XW1iItLQ3Dhw/H/v37dUuEOJM9e/Zg8ODBmD17tjFiD0XMWEllZSVGjBhh/Ht/++037SV2xtYiIch5ULlRJz4hHjvcO9Cg7JKyYErZXvaT/ZufT925cyf69u2LzMxM7SHEOfzyyy947rnnMGjQILz//vva24h3zGx3b28RF/5K2d4sZqzi999/N0QiJiYGFRUV2kvsiu1FwoOk3sXHxyM6OhrzM+djl3sXPq/6HHX1dbiiTEqpi18+l+1ke38pez///DNmzZplrD/DWQVxCrt27UL//v2NtZN+/fVX7W1J85jZ6d7ZJGYu1l9sdcxYicxSZLHAtWvXag+xI44RCQ8yupFlAVJSUjBw4EB07drVmBZLKXXxy+etGQVJ0HlmFTLKIcSO/PTTT8bKq3KqtLS0VHsDE4qYsYrPPvsMY8eOxZQpU4xBG7EfjhMJX0iHby+eWcXQoUOxb98+7SXEHmzbtg0ulwsvvfSS9rQPK2LGSuTvklNnBw8e1B5iFygSzZBZhaw/I7MKXlgjnU1NTY2RPioXe8vKyrS3/dhNJAS5TtijRw+89tpr2kPsAEXCB5Ilkp6ebswqWjOtJ8RKJFVU0lqzsrK0xzrsKBKCLOMhy3k88sgjxvIepPOhSPjBM6uQHHTOKkhHIT+UTzzxBMaMGYNjx45pr7XYVSQ8LF++3Di91jxzi3Q8FIkA1NXVGbOKO+64g7MKEnI2bNiA66+/HtnZ2doTGuwuEoLEm2RxLVq0SHtIZ0CRCBJP2qHMKq5cuaK9hFjDF198gYkTJ+K+++7DiRMntDd0OEEkBMnoevLJJ5GYmGj8H5GOhyLRCmRWITcByayCD1YhViHLXlx77bX429/+pj2hxyki4SEvLw833HADtm7dqj2ko6BItIGSkhJjVjFv3jzOKkibkcXuHnzwQePV0QvfOU0khCNHjhj3iLzwwgvaQzoCikQbkWURZFYxZMgQXqsgrWbVqlW45pprLFs8r7U4USQEucN85syZiI2Nxccff6y9JJRQJNqJzCoGDBhgzCpkNU5C/CHXG8aNG2dcf+jMc+xOFQkPhYWF+NOf/mRc6CehhSJhAZ7F1mRWwWsVxAzJWJLMJTv8sDldJARZRkTShKdPn46GhgbtJVZDkbAQt9ttzCpk4TXOKogHuddBfszk3ofz589rb+cSDiLhQWbxcuPr4cOHtYdYCUXCYv73v/8ZswpZ45+zCiJ3S8td03Z70E44iYRQVFSEG2+8UdcCcL4IU1ypKKrWdeIXikSIkDtFZenlQMs5k/CkvLwc99xzj7G6qR2Xlwg3kRCqqqr0Oz+cL0HGmCj191MkgoUiEUI8swp5EPzevXu1NwAc5diLyzUoy01D4nCX0c+iBsUhLbcMNQHOJsqSErJyq10JR5Hwy+VanCxegESXCARFojVQJDoAmVXIuv0B4SjHZpxD0TQlDq5EpK0rQVl5GUrWpSFO9TfXtCL1qTlyp7CdiTSRqClONf7m6EkFOFmawxhrBRSJDqK+vl6/8wFHObakoTwLrqgRyDraNHOm4cAC5Xchq9y5GTURJxLuBVhQfAa1UqmgSLQGioQN4CjHnpzckIjoqCwc1/Wr1JUiQ31fqcU12uE8Ik0kmkCRaBUUCRvAUY7DOJWHEarPZewxvjFHQpFgjAULRcJusAPbHM91iiyUOfj+LYoEYyxYKBJ2gx3YxtSibHGc+n7ikFPh7Dt8KRKMsWChSNgNdmB7clnNIGZEGwKRdcC5p5k8UCQYY8FCkbAb7MD2o/Y4cu6XU0zJyDsVHmsEUSQYY8FCkbAb7MD24nxp470rYzJQao9llyyBIsEYCxaKhN1gB7YPdWoGYQhEDo7XaV+YQJFgjAULRcJusAPbhpP5cpE6ConpOcjLzWvx2lzBFFgS/lAk7AZFwiacRF6M5w543y/eTEciAYoEiXg66xGinQljJjjkCYLffvutrkUmFAkHIwsHkrbzySef4IEHHsCECRO0J3KgSATHihUrcNtttxmPKY5UKBIORh5sJEuRy5LkpHW8/vrruPbaa7F27VrtiSwoEsGzb98+44mTCxcu1J7IgiLhYORhRvJQI3m4kTw6lQSmsrIS48aNw6OPPhrcQ2rCFIpE6/jvf/+Lp556Cvfddx/Onj2rvZEBRSIMkMekyqxi9uzZnFX4Yfny5ejWrRsKCwu1J3KhSLSNNWvW4Prrr8fWrVu1J/yhSIQJly9fNmYVMi3mrKIpR48exejRozFp0iT8+9//1t7IhjHTdqQ/3XnnncjIyNCe8IYiEWbIrGLIkCHGtYpffvlFeyOXxYsXo0ePHnj77be1hwiMmfYhp3rT0tIwatQonDhxQnvDE4pEGCKzinnz5hmzikjNyjh06BBiYmIwbdo0fP/999pLPDBmrGHjxo3485//jDfffFN7wg+KRBhTWlpqzCrkWkWkzCp+//13vPjii+jVqxeKi4u1lzSHMWMdkkodFxeHZ555JiyvCVIkwpwrV64Ys4r+/fuH/axCRHHo0KHGaYDaWucv5x1KGDPWM3/+fNxxxx04fPiw9oQHFIkIQa5VSAeWWUVdXXitVtfQ0IAXXnghok+vtRbGTGgoKirCTTfdhFWrVmmP86FIRBAyq5DRjswqdu3apb3ORjK55D6R559/HvX19dpLAsGYCR1fffUVxo8fj9TUVPzwww/a61woEhGInJaRWUV6erpjZxU///yz8e+Xay579+7VXhIsjJnQk5WVhT59+ji+f1IkIpTffvvNmFX069fPcbOK9957D7179zYuUMvfQVoPY6Zj2LNnj9FXlyxZoj3OgyIR4Xgu9sqo/OLFi9prT/7zn/8YGSR33XUXDhw4oL2kLTBmOg5JwX788cfx4IMPGqeinAZFghij8czMTFvPKt555x3ceuutWLRokfaQ9sCY6XhkUcmbb77ZcanZFAlyFVntUmYVs2bNMs7524Hq6mpjYbXY2Fj84x//0F7SXhgznUN5eblxHU0GZU6BIkGaIDejSQfu27dvq2YVp06dwsqVKzE+ZTz6DuyLLl27GN+LlFIXv3wu2wXLpk2bjHTCpUuXag+xCsZM5yE3tspKAPfeey8+/fRT7bUvFAnik/3792PYsGHGjWn+ZhUydR4VPwquaBeSMpMw0z0TS6uWYnX9aqxTJqXUxS+fy3ayvb8pt5y3feyxx5CQkGAs7U2shzHT+RQUFOCaa64xBkN2hiJB/OKZVezcuVN7GpEZQUJSAoYlDEO6Ox1vtsJke9lP9m8+s1i/fj26dOmCnJwc7SGhgDFjDz766COMHDnSOMUra67ZEYoECYjMKoYPH351uYstW7YY/+eTCyZjo7JNytpSyv5yHDnev/71LyQnJyMpKalVp6RI22DM2Is5c+YYWXvHjh3THvtAkSBBI/clSHbGrX1uxZLKJXjLApPj9IruhYceegh5eXm6JRJqGDP2QzL4unbtivz8fO2xBxQJEjQy4u/h6oHVVavxjpdtVdaeuhxPhEKOTzoGxow9OXPmjPF43aefftp4ZGowhCJpxBuKBAkK6WDy/7yicgW2KStSZmUpx5Xj81RTx8CYsTevvPKKsSaZnOo1IxRJI76gSJCgGJs0FjMLZuI9Zdu9zMq6HF/aIaGHMWN/JAVdbiDNzs7WnkZkIOVJGpnlnuWVEvImCpT5q8v2ZkkjZlAkSEBk5HFXwl3YFYRtPT0PEycNxm3qO4mKugV9Jk7EvNNbvbbwb9JOa0c6pPUwZpzBN998g5SUFDz88MPG++ZJI20176SRQFAkSEBi42Ox0L0Qu5W9r8ys3FkxFUPUd9Fz0lRklmYju/RFPDHxFvX9DMHUih0ttvdVSjvSHgktjBlnIbOJbt26XU0a2axMEj/aU3qSRgJdKA8LkSChQ6akvaN7Y29A24y5yWr2MOkl9c6HP3luM7+5SXu8NkHIH8iIv3vP7sityvVK+Wi/yfECJY1QJIhfJCsiNTMV+5TtV2ZaXshG6vDuiN+6palf2aYNQ9XI9VnkN/ObldKetEsI6fykEYoE8ctDKQ9hmXsZDrbZdmPZDDWTiHkOhV5efybtSbuEkD+SRjwJHqEwf0kjzhWJEzlwKfUTBWz6SkVRtd6GtJv+A/ujqKoI5coOK2tt+WFFGoap72X0luImfn+ltCftEou5XIOy3DQkDnc1xsqgOKTllqHGnqtBEIV30kiJMvPy/+Llac1/C/Ur+3Uf27cszZJGHCsSNcWp6j8gGRm5echr8tqM47V6I9Ju/tL1LzhUfwhHlR1RJqXHAtUPnX0F411R6DFtKXaoerD7S3vSLrGScyiapsTBlYi0dSUoKy9Dybo0xKkfEde0IvUpsSOSxLHIvahJcofHmtZXYar6LqOnTcKM3BnGa3ru9Mb3ezYaW/jf3zxpxLEicfxVpZCPs3OHGhmJHNdWoczzPlD9wNHnMNIQiMUormv5eaC6tEuso6E8S828RyDraIP2NNJwYIHyu5BV3tRPOp/mSSMfKPO8b1E//xLuVTHz5NGrHv/bK/NV95U04lCRUKOix2UadVzXSaiQEf3R+qM4oewjZcGU7xc/gt6qw9459w01Pgl+P08p7XEmYS0nNyQiOipLyW8z6kqRob6r1OIa7SB2IeikESmPPq0GVvFYWB1guwClr6QRh4rEcWSpjj1lUxmKXk5WnV8JBs+vhoQBAwfg71V/x8fKTnqZ73oFivPj8deovyI+v1jVmn8eXF3ak3ZJB3AqDyNU/GTs4Tlau+GdNHJA2R+pHS3rW7cmIMo1A8vUDD5xeHclGN3Rb+ITWHx6t/F5oP09dV9JI84UiarNSBRhuHp+tRRF2amGWPD8qrUkpyQj352PT7WdVuZ537xeWvywIRAPF5de9fnb3qwu7Um7JNR4rlNkoYxnm2yHd9KIxzzJHU3rH2LNy+r3UP3+9ZqUhqzSNVjjnofk+3so3zCkVXzYbPs/rHndV9KIM0WiIg9xauaQU9G0Z9eWyvnVKKS5OSqyCpl6Ts+cjn8pO6PMtLxQiMku1VHvGI/pua/g5dyX8UqTslCNVfzs71VKe7xPItTUomxxnPoRaRlHxB7IKdeD9QebJHX4Lnfg1Rn90WvaUmz39l/ehky5kTUmA295+/2U0l7zU72OvXDtm+PIkR+ql8vAbm8NchGrX3Q/fBHA/rlnqjGSMX9lqq7svYe5SXtmN/YQC7isZhAzotV3EoesAxxQ2RWJG08iR1ttb/H96jgjsbjK2+vfpF1vnCsSPq896Avak4rAy3DWERcfhw3uDep/9xy+UhbKUtqR9kiIqFUDqfvlFFMy8k5xKGVnWp00ctmH/+gM40d/ToWP7X2UvpJGHCkSx7NlZLqg5XnUhjIsUP8hrpUntYNYgdxgMzphNP7dASbtcBXYEHG+FBljVOyMyUDpee0jtsWTNOJJ6DC16pVIUr97sZv2ensN27spVv1WTsDqGm+vuflKGnGkSDTmfLswpbjpJepzW+UGuxFqhKQdxDISkxKxsmAlvlX2nbJQlHJ8aYeEgDo1gzAEIgfH67SP2BpP0ognucO83Iflcu1hzFy8W+flr9uGWTHKPyMf/6/J9ualr6QRh55u0lkZUdFIzdXZTYuTjYvWcdnHeT0iBMg1Apm27qvchx9CYHJcOT6vRYSGk/lykToKiek5zVYoaHxtruC1CbvhSRqRhI5AdqpiPmLU93vr/dORXfo23na/iidkUOBKQe557y39m6+kEQdfk2hchyZukPqPUP850WPSkOM+Q4EIIbKccM+ePfHPqn/iRy/7SVl76nI8OW4wD0AhbeEk8mREqeLE7MWb6eyHJ2nkS2XeiR1m9X+ezsPMiYNwq3ynrkEYN2cpdlww395X3VfSiHNFgnQ48nCSrl27olfvXiirLEOtsp+VtaeU48jx5Lh5eXm6JUKI4EkakcQO7ySPQPXmpcf81c2SRigSJCjS0tIQHx+PL774whjxy+hzTcEa1Cn7xctaU5f95ThyvKqqKowbNw7Tp0/HlStXdKuERDbNk0a+VuZ5b3XdLGmEIkH88vnnnyMuLg7p6ena04hMSZOSkhCfEI/t7u1oaIXJ9rKf7N98avv8889j5MiR+OSTT7SHkMhGkjlyCnKM5I5QmRzfLGmEIkFMKSkpwU033eT3Gbgy8pAZRnR0NOZnzsdO9058XvU5LtZfxBVlUkpd/PK5bCfb+0tz3bBhA7p06YJt27ZpDyGRiwykZMYtyR3fK5NEDyvLQEkjFAnik9deew29e/fGhx9+qD3+kQ4mWREpKSkYOHCgcY1BOp6UUhe/fG7WEZtz9OhR3H777Vi0aJH2EBK5eJJGTlSd8Er5aL/J8QZED/CbNBIWIiE/RsQaGhoaMHnyZIwfPx7V1Z37iL/a2lqkpqbi4Ycfxvfff6+9xAoYM84iOzsb3bp1Q+8+vS1NGhGB8HemQKBIkKt8/PHHuOuuuzB//nztsQdLly5F//79cejQIe0h7YUx4wy++eYbYxYuAyV575004kkAaYt5J40EgiJBDN59911ce+212Lhxo/bYi507d+LGG2/EG2+8oT2kPTBm7M+uXbtw6623GrMIb+SUrXfSyCVlkhASTOkvacQMigQxzvsPHjzYuA5gZ86ePYt7773XSMcl7YMxY29eeeUVI8lj//792tMSs6SRuvq6Jkkju9y7gk4a8QVFIoL56aef8Mgjj+Cxxx4z3juF2bNnY/To0fjss8+0h7QWxow9OXPmjHG/0NNPP43//ve/2usfq5NGmkORiFCOHDmCQYMGISsrS3ucxbp163DDDTdg+/bt2kNaA2PGfrzzzjvGD3ugC8kdDUUiAiksLMR1113n+PsQDh8+bIyUnCp0nQljxl7MmTPHSBo5duyY9tgHikSEMW/ePMTExODkyfB45saFCxeMU2aPPvoofvzxR+0lgWDM2IOPPvrIWGFg1qxZuHzZ55PUOh2KRIQg6XMPPPAApkyZgkuXLmlv+CCzCZlVyOyCBIYx0/kUFBTgmmuuwaZNm7THnlAkIgDJkOjVq5dxF3U489577+H666/H+vXrtYeYwZjpPH755RdMmzbNyNT79NNPtde+UCTCHLkIdsstt8DtdmtPeHP69GnExsYaGVDEHMZM51BeXo4hQ4YgMzNTe+wPRSKM8SzvLSu5RhozZ86M2L89GBgzHc/rr7+Om2++udX3KXQ2FIkwxGx570hjzZo1xiq2cucqaQpjpuOQdccef/xxPPjgg/jqq6+01zlQJMKMYJb3jiQOHjyIfv36YdmyZdpDBMZMx7Bnzx5jNeUlS5Zoj/OgSIQRrV3eO1KoqalBcnKysaKsrCxLGDMdgWTc9enTB3v37tUeZ0KRCAPstLy3nZH1cOSioR1vWOpoKBKhQ04pSSzKoOSHH37QXudCkXA4srz33Xffbbvlve2KrHYrd5vLXeeRDEUiNBQVFRmne1etWqU9zoci4WDsvry3XZGFzu655x5kZGRoT+RBkbAeGajdcccdYXdDJ0XCwcjjPe2+vLddkSUQnnnmGdx3333aE1lQJKzjk08+MbIJpT/973//097wgSLhYJy0vLddWb16tX4XgPNFmOJKRVGYXPKhSFiDzOL//Oc/480339Se8IMiYQtqcXxdBpIHRRl/S/SYNOSV1+jPSKdzvgQZY+S7oUiQRn799VfjZtVRo0bhxIkT2hueUCQ6nQYcz45Tf0Mc0taVoKy8BAXpiXBFuTCl+JzehnQKl2txsngBEl2N4k2RIIKc4r3zzjsj5poWRaKzOZWHEerfn1rsPXNoQNnLLkS5chAeC3o7k5riVKNvRU8qwMnSHIoEMe7il0Ukt27dqj3hD0Wik6nZo0aqwzNQ2uwer5P5I9TflYPjuk46nhr3AiwoPgPjq6mgSEQy8ijRp556ykh0kGetRxIUCbtxuQHnynOQ7IpC3MqTak5BbAFFImLZt28fBgwYgIULF2pPZEGRsBGe0xvyGppZihp7PqgqMqFIRCQrVqzAbbfdZqyJFqlQJGzEuROlKCsvRVFuGuLU3+SaVgReurYJFImIZOLEifj22291LTKhSNiUhgML4FJ/V5qbC9LZAoqEw2GaeVuhSNiW48hSf1dUNi9d2wKKhINhmnl7oEh0MifXxSE6Jq9lqmtDGRaov8u1kkmwtoAi4VyYZt4uKBKdTO2eDPXvd2HBgaZ5TOeKpxgjnaxy5jfZAoqEY2GaefugSHQ651A0TUY0iXoqXIqi7FREq78pLvs4U2DtAkUifGCaeaugSNiByzUok4wmr4tqOW59ExchISBSRYJp5q2HIkFIBBKpMcM089ZDkegAZEnvRx99VNdIuBP08uOdCAdWTDMPFopEiJEVI+XhQIsXL9YeEu7I+j7yABp5sJFdoUgITDMPBopECJEHksjjRbdt26Y9JFKQZaTlEanyqFQ7EkkiwTTz9kGRCBHyvNu7774bJ0+yA0YqhYWFuO6664xnkduNSBIJppm3D4qExVRXV2P8+PGYPHkyGhrY+SIdOd04ZMgQ260gGkkiwTTz9kGRsJD9+/ejd+/eyMnJ0R5C1Ei2thZPPPEEkpOTUVNjj/WCIkskFEwzbzMUCYuQJ1bddNNNcLvd2kNIU5YtW4Z+/frh4MGD2tN5hKNIVFVV6XfESigSFjBr1izce++9+Pzzz7WHEN/s2rXLGEzk5+drT+cQbiJRVFSEG2+8UdeIlVAk2oGIgoiDiAQhwSL9Jj4+HjNnztSejiecRGLevHkYOnQoDh8+rD3ESigSbUROK918883GaSZC2sLs2bMRGxuL06dPa0/HEQ4iIenFY8aMwfTp05kkEkIoEm1ALkz36tXLuFBNSHtYv349rr/+erz33nva0zE4XSQkvfhPf/oTNmzYoD0kVFAkWsGlS5cwZcoUPPDAA/jmm2+0l5D2IadJBg4ciKysLO0JPU4ViV9//dU4TSczsI8//lh7SSihSASJ3BQXExNjnP8kxGp+/PFHY32vRx55BBcuXNDe0OFEkThy5AiGDx+OF154QXtIR0CRCAJZVkPunJVlNggJJTKbkFlFqC/COk0k8vLycMMNN2Dr1q3aQzoKikQAJGgHDRpk3DlLSEewfft24wdx3bp12mM9ThEJWUH5ySefRGJiIr744gvtJR0JRcIE6ZyPPfaYMf2X94R0JJ999hlGjx5tZECFAieIRGlpKfr3749FixZpD+kMKBI+kFnD4MGDubw36XTS0tKMe3HOnj2rPdZgd5FYvnw5XC4X3n//fe0hnQVFohme5b3tuHIniUzk7my5m1ju1rYKu4rE119/jQkTJhgz+O+++057SWdCkfDCs7w3U+uI3Th06JBx6mXp0qXa0z7sKBI7d+5Ejx498Nprr2kPsQMUCQWX9yZO4Pvvv8fDDz+M1NRUY2XZ9mA3kXjppZeMBBE7LH5ImuI4kZBb8VeuXInxKePRd2BfdOnaxejwUkpd/PJ5sE8E+/DDD43lvTl6IU5Bnk0hj8QNNuPO6pixErlAP3bsWOMm1Z9//ll7iZ1wjEgUFxdjVPwouKJdSMpMQpo7Da9WvYq8+jysVSal1MUvn8t2sr3sZ4ac65UVOUtKSrSHEGcg9+506dLF77IUzWNmpnsmllYtxer61VinTEqpiz/YmLGSLVu2GH/D2rVrtYfYEduLhIxuEpISMDRhKNLd6XhTW4Eyz3uzumwv+8n+zUdJ6enpiIuL4/LexLF88sknGDlyJJ5//nntacQTM8MShl2NmWDiRUrZXvbzFTNW8fvvvxupvbKCQUVFhfYSu2JrkZCRhkyLJxdMxsZ2mOwvx5HjeZZpltRCQpzOlStX8Oyzz2LcuHHGQ3dCETNWUllZiREjRhgi8dtvv2kvsTO2FQk5FdQruheyKrPwlrLNytpTynH+2vuv6Nq1a6c/8IUQq5FlK6RvSx9fUrmkRf9vSynHkRi0Kl7kDnJZ3uatt97SHuIEbCkSMnqRzplblYt3LDQ5Xvee3S0fHRHS2Uiflr4dipiRWGxPzFy8eBFTp05FQkJCpzw7g7QP24mEnAeVae7yyuUoUrZNmZWlHFeOH6rzrYR0NJ6YWVG5okV/t6KU47Y1ZuT+DsnEWrBggfYQp2E7kRibNBYzC2ZiewhNji/tEBIO2DVm5OFc3bt3x44dO7SHOBFbiYSk3t2VcBdKlO1SFlxZjNezByMqe2Uzv/9S2umoVL/IoxbHc9MQNyjKGIG6hidjQfEZ5SVW44mZYPv91fLUsxisvpvJFUFuryzYmJHlNOTZGLK8hiyzQZyNrUQiNj4Wi9yLsDtoK0J+/j24RXX2qOxVXv7AJu1Ie8RqalE6x6XEIRqp2UUoLS9FUXYqotV3FLfyJHg/u7W0PmaU1a3C1DGNAj61wssfwIKJmd27d6Nnz55YtmyZ9hCnYxuRkPOdvaN7Y6+yD5RJ6TFfdXf1SqRN6ml0dOOVvbrJ5573/urSHq9NWExNCaao7yN50zntaORk7gj1PWWglNMJy/DETLD9vdHcyHt1ILqPuQMD1ff0TEXw8SLmL2Zk1eR+/frhgw8+0B4SDthGJGRZgNTMVOxXtk+Z/zIf00UYXHcjdU8+XpkkIpHvYzv/pbQn7RILqS5CqvpuFhxoOmeoKU5VIpGKomrtIO3GEzPB9ncp3y6+H91jnkb+2YWIV9/T9Irg9vOUvmLmyy+/RFJSEiZNmmQ8hpWEF7YRiYdSHsIy9zIcUHbQy3zXC/Hc5Oewukbq27HYEIl1Xp//Yf7q0p60S6zkHDY/7kLUmCyU1jR6GqpLkTUmCq5pJdAuYgGemPH0ZzG//f/8YiS6hmJGRSkOVi9GghKJGRXBx4tY85iRJfW7deuG1atXaw8JN2wjEv0H9se2qm0ob7XtQpYhEgVevuBM2pN2icVcPoei9KF/nApUr6FzlEBc1p8TS2hdzGzCHCXUw/I3NdarszBWfS9pFZ7PgzPvmJk7dy6GDRuGI0eOGHUSnthGJP7S9S84VH8IR5QdVRZ8+T6WGiKxoZk/cCntSbvESs6hZEY0olyJSFtXgrKrF65dSHy1jBlOFiJ992D9wRb9umVZhg3Zw9Fj2lI179b+6ldxnxKJ9Ap/+7UspT1ZlC82NhYzZszApUuX9L+GhCu2EQkZbR5vk+3FckMkNnn5gjfv0S5frXv5otadpj6LQ05F02sSDUezMEIJRYafK9e+2uDL/8u7L5vZPw5MRg/Xg1h+3stbvRz3q/2fq/DyBWnSbmFhof7WSLhjq5nEsfpj+EjZCWXBl/vwmiESbzXzBy6lPc4krKQBZS+r72L8ZjWfaM5J5MXI93Rc10l7kb57tP5oi37dtNTx4SUsLV+JyK42279pKe0xZiIL24jEgIED8Peqv6ufktbaAaw0ROIdL19wJu1Ju8QqKBIdSXAxU4EDJzZiY3mz1840xCqBeGyD1ItxoMF7H3NjzEQethGJCSkT8Ib7DXyq7LSy4Msy/M0QiXeb+QOX0p60S6yj8XTTCGQd9XW6KQppbl6VsIrklGTku/Nb9OugyurX8YD6PuZWBLm9LqU9aZdEDrYRCcm9fjbzWZzxsn8pC1z/B3INkSg2+dy8Lu3xPgmrOYPNE12NF65z5Y7rMpSsS0OiS1Jgi3zMMEhbkb47PXP61f7cqv5fnYvxSiTmV1z1+N9emdSlPcZMZGEbkZC7OPtF98MXXvalssD1Y8gzRGKHyefmdWmPd1yHgMs1KGu2dlPGujKmwFpM85hpVf+vzsOD6rvJrLjq8b+9MqkzZiIP24iEEBcfh0J3Ib5Sdk5ZKEtpR9ojxMlIH97g3tCif4eilHYYM5GHrURCVpgcnTAa/1b2tTIpPWZ1XdrhKrDE6Xhixur48FVnzEQmthIJITEpETkFOfhW23fKPO+tqsvxpR1CwgHvmLEiPnzVGTORi+1EQs53ynns0spS/KDse2VWlnJcOT7Pq5JwwRMz+yr3tejvVpRyXMZM5GI7kRDkeboDogfgRNUJ/GihyfHkuHzGNQk3GDMkVNhSJIT8/Hyjcx6qPISfldUqa08px5HjyXEJCUc8MVNWKWtkBRcX/ko5DmOG2FYkBBm9yDR3TcEa/NIOk/3lOBwNkXCHMUOsxtYiIch5UHmgSXxCPHa4d6BB2SVlwZSyvewn+/N8KokUvGNmu3t7i7jwV8r2jBnije1FwoOk3sXHxyM6OhrzMudhl3sXPq/6HHX1dbiiTEqpi18+l+1ke6bskUjFO2bmZ873GzPyOWOG+MIxIuFBRjeyLEBKSgoGDhyIrl27GtNiKaUufvmcoyBCGmHMkPbgOJEghBDScVAkCCGEmEKRIIQQYgpFghBCiCkUCUIIIaZQJAghhJhCkSCEEGIKRYIQQogpFAlCCCGmUCQIIYSYQpEghBBiCkWCEEKIKRQJQgghplAkCCGEmEKRIIQQYgpFghBCiCkUCUIIIaZQJAghhJhCkSCEEGIKRYIQQogpFAlCCCGmUCQIIYSYQpEghBBiCkWCEEKIKRQJQgghplAkCCGEmEKRIIQQYgLw/wHze+fDx7h+dgAAAABJRU5ErkJggg==)"
      ]
    },
    {
      "cell_type": "code",
      "metadata": {
        "colab": {
          "base_uri": "https://localhost:8080/"
        },
        "id": "wzhPbqE1SAQp",
        "outputId": "b40cd3d0-1d71-4c65-d7d9-6e4ca5427570"
      },
      "source": [
        "class Node_Distance :\n",
        "\n",
        "    def __init__(self, name, dist) :\n",
        "        self.name = name\n",
        "        self.dist = dist\n",
        "\n",
        "class Graph :\n",
        "\n",
        "    def __init__(self, node_count) :\n",
        "        self.adjlist = {}\n",
        "        self.node_count = node_count\n",
        "\n",
        "    def Add_Into_Adjlist(self, src, node_dist) :\n",
        "        if src not in self.adjlist :\n",
        "            self.adjlist[src] = []\n",
        "        self.adjlist[src].append(node_dist)\n",
        "\n",
        "    def Dijkstras_Shortest_Path(self, source) :\n",
        "\n",
        "        # Initialize the distance of all the nodes from source to infinity\n",
        "        distance = [999999999999] * self.node_count\n",
        "        # Distance of source node to itself is 0\n",
        "        distance[source] = 0\n",
        "        Count =0\n",
        "        # Create a dictionary of { node, distance_from_source }\n",
        "        dict_node_length = {source: 0}\n",
        "        \n",
        "        while dict_node_length :\n",
        "            \n",
        "            # Get the key for the smallest value in the dictionary\n",
        "            # i.e Get the node with the shortest distance from the source\n",
        "            source_node = min(dict_node_length, key = lambda k: dict_node_length[k])\n",
        "            del dict_node_length[source_node]\n",
        "\n",
        "            for node_dist in self.adjlist[source_node] :\n",
        "                adjnode = node_dist.name\n",
        "                length_to_adjnode = node_dist.dist\n",
        "                Count+=1\n",
        "                # Edge relaxation\n",
        "                if distance[adjnode] > distance[source_node] + length_to_adjnode :\n",
        "                    distance[adjnode] = distance[source_node] + length_to_adjnode\n",
        "                    dict_node_length[adjnode] = distance[adjnode]\n",
        "                # print(f\"dict {dict_node_length}\")\n",
        "\n",
        "        for i in range(self.node_count) :\n",
        "            print(\"Source Node (\"+str(source)+\")  -> Destination Node(\" + str(i) + \")  : \" + str(distance[i]))\n",
        "        print(f\"count : {Count}\")\n",
        "\n",
        "g = Graph(6)\n",
        "\n",
        "# Node 0: <1,5> <2,1> <3,4>\n",
        "g.Add_Into_Adjlist(0, Node_Distance(1, 5))\n",
        "g.Add_Into_Adjlist(0, Node_Distance(2, 1))\n",
        "g.Add_Into_Adjlist(0, Node_Distance(3, 4))\n",
        "\n",
        "# Node 1: <0,5> <2,3> <4,8> \n",
        "g.Add_Into_Adjlist(1, Node_Distance(0, 5))\n",
        "g.Add_Into_Adjlist(1, Node_Distance(2, 3))\n",
        "g.Add_Into_Adjlist(1, Node_Distance(4, 8))\n",
        "\n",
        "# Node 2: <0,1> <1,3> <3,2> <4,1>\n",
        "g.Add_Into_Adjlist(2, Node_Distance(0, 1))\n",
        "g.Add_Into_Adjlist(2, Node_Distance(1, 3))\n",
        "g.Add_Into_Adjlist(2, Node_Distance(3, 2))\n",
        "g.Add_Into_Adjlist(2, Node_Distance(4, 1))\n",
        "\n",
        "# Node 3: <0,4> <2,2> <4,2> <5,1>\n",
        "g.Add_Into_Adjlist(3, Node_Distance(0, 4))\n",
        "g.Add_Into_Adjlist(3, Node_Distance(2, 2))\n",
        "g.Add_Into_Adjlist(3, Node_Distance(4, 2))\n",
        "g.Add_Into_Adjlist(3, Node_Distance(5, 1))\n",
        "\n",
        "# Node 4: <1,8> <2,1> <3,2> <5,3>\n",
        "g.Add_Into_Adjlist(4, Node_Distance(1, 8))\n",
        "g.Add_Into_Adjlist(4, Node_Distance(2, 1))\n",
        "g.Add_Into_Adjlist(4, Node_Distance(3, 2))\n",
        "g.Add_Into_Adjlist(4, Node_Distance(5, 3))\n",
        "\n",
        "# Node 5: <3,1> <4,3> \n",
        "g.Add_Into_Adjlist(5, Node_Distance(3, 1))\n",
        "g.Add_Into_Adjlist(5, Node_Distance(4, 3))\n",
        "\n",
        "g.Dijkstras_Shortest_Path(0)\n",
        "# print(\"\\n\")\n",
        "# g.Dijkstras_Shortest_Path(5)\n"
      ],
      "execution_count": null,
      "outputs": [
        {
          "output_type": "stream",
          "text": [
            "Source Node (0)  -> Destination Node(0)  : 0\n",
            "Source Node (0)  -> Destination Node(1)  : 4\n",
            "Source Node (0)  -> Destination Node(2)  : 1\n",
            "Source Node (0)  -> Destination Node(3)  : 3\n",
            "Source Node (0)  -> Destination Node(4)  : 2\n",
            "Source Node (0)  -> Destination Node(5)  : 4\n",
            "count : 20\n"
          ],
          "name": "stdout"
        }
      ]
    },
    {
      "cell_type": "code",
      "metadata": {
        "colab": {
          "base_uri": "https://localhost:8080/"
        },
        "id": "io7fHtHkSA5i",
        "outputId": "7358a6a1-a001-4997-f21f-fe4ec3f57a02"
      },
      "source": [
        "dict_node_lengt = {0:-1,1:1,2:-3}\n",
        "ource_node = min(dict_node_lengt, key = lambda i: dict_node_lengt[i])\n",
        "# print(dict_node_lengt)\n",
        "print(lambda i: dict_node_lengt[i])\n",
        "print(ource_node)"
      ],
      "execution_count": null,
      "outputs": [
        {
          "output_type": "stream",
          "text": [
            "<function <lambda> at 0x7f5ce2360e60>\n",
            "2\n"
          ],
          "name": "stdout"
        }
      ]
    },
    {
      "cell_type": "markdown",
      "metadata": {
        "id": "hx2kKG6LWk90"
      },
      "source": [
        "### **Bellman Ford Algorithm**"
      ]
    },
    {
      "cell_type": "markdown",
      "metadata": {
        "id": "xLJevQUIW6jp"
      },
      "source": [
        "![image.png](data:image/png;base64,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)"
      ]
    },
    {
      "cell_type": "code",
      "metadata": {
        "id": "gJT-tnstWkEH",
        "colab": {
          "base_uri": "https://localhost:8080/"
        },
        "outputId": "4bca18ac-a297-4a68-cb32-66983a47770a"
      },
      "source": [
        "\n",
        "class Graph:\n",
        "\n",
        "    def __init__(self, vertices):\n",
        "        self.V = vertices   # Total number of vertices in the graph\n",
        "        self.graph = []     # Array of edges\n",
        "\n",
        "    # Add edges\n",
        "    def add_edge(self, s, d, w):\n",
        "        self.graph.append([s, d, w])\n",
        "\n",
        "    # Print the solution\n",
        "    def print_solution(self, dist):\n",
        "        print(\"Vertex Distance from Source\")\n",
        "        for i in range(self.V):\n",
        "            print(\"{0}\\t\\t{1}\".format(i, dist[i]))\n",
        "\n",
        "    def bellman_ford(self, src):\n",
        "\n",
        "        # Step 1: fill the distance array and predecessor array\n",
        "        dist = [float(\"Inf\")] * self.V\n",
        "        # Mark the source vertex\n",
        "        dist[src] = 0\n",
        "\n",
        "        # Step 2: relax edges |V| - 1 times\n",
        "        for _ in range(self.V - 1):\n",
        "            for s, d, w in self.graph:\n",
        "                if dist[s] != float(\"Inf\") and dist[s] + w < dist[d]:\n",
        "                    dist[d] = dist[s] + w\n",
        "\n",
        "        # Step 3: detect negative cycle\n",
        "        # if value changes then we have a negative cycle in the graph\n",
        "        # and we cannot find the shortest distances\n",
        "        for s, d, w in self.graph:\n",
        "            if dist[s] != float(\"Inf\") and dist[s] + w < dist[d]:\n",
        "                print(\"Graph contains negative weight cycle\")\n",
        "                return\n",
        "\n",
        "        # No negative weight cycle found!\n",
        "        # Print the distance and predecessor array\n",
        "        self.print_solution(dist)\n",
        "\n",
        "\n",
        "g = Graph(4)\n",
        "g.add_edge(0, 1, 5)\n",
        "g.add_edge(0, 2, 4)\n",
        "g.add_edge(1, 3, 3)\n",
        "g.add_edge(2, 1, 6)\n",
        "g.add_edge(3, 2, 2)\n",
        "\n",
        "g.bellman_ford(0)"
      ],
      "execution_count": null,
      "outputs": [
        {
          "output_type": "stream",
          "text": [
            "Vertex Distance from Source\n",
            "0\t\t0\n",
            "1\t\t5\n",
            "2\t\t4\n",
            "3\t\t8\n"
          ],
          "name": "stdout"
        }
      ]
    },
    {
      "cell_type": "code",
      "metadata": {
        "id": "rHBMWbV6_voD",
        "colab": {
          "base_uri": "https://localhost:8080/"
        },
        "outputId": "7dbfd829-0545-49f9-a7e6-243e9899ea3f"
      },
      "source": [
        "print(float(\"Inf\"))"
      ],
      "execution_count": null,
      "outputs": [
        {
          "output_type": "stream",
          "text": [
            "inf\n"
          ],
          "name": "stdout"
        }
      ]
    },
    {
      "cell_type": "markdown",
      "metadata": {
        "id": "XWEant88XYWS"
      },
      "source": [
        "### **Prim's Algorithm**"
      ]
    },
    {
      "cell_type": "code",
      "metadata": {
        "colab": {
          "base_uri": "https://localhost:8080/"
        },
        "id": "MOMre0XIXY_8",
        "outputId": "ea3db615-5266-40db-ab7a-60e800d9387e"
      },
      "source": [
        "\n",
        "INF = 9999999\n",
        "# number of vertices in graph\n",
        "V = 6\n",
        "# V = 4\n",
        "\n",
        "# for adjacency matrix to represent graph\n",
        "G = [\n",
        "     [0, 7, 0, 8, 0, 0],\n",
        "     [7, 0, 6, 3, 0, 0],\n",
        "     [0, 6, 0, 4, 2, 5],\n",
        "     [8, 3, 4, 0, 3, 0],\n",
        "     [0, 0, 2, 3, 0, 2],\n",
        "     [0, 2, 0, 0, 2, 0]\n",
        "    ]\n",
        "\n",
        "# G = [ \n",
        "#       [0, 3, 1, 0],\n",
        "#       [3, 0, 2, 4],\n",
        "#       [1, 2, 0, 5],\n",
        "#       [0, 4, 5, 0]\n",
        "#     ]\n",
        "\n",
        "# create a array to track selected vertex\n",
        "visited = [0, 0, 0, 0, 0, 0]\n",
        "\n",
        "# visited = [0, 0, 0, 0]\n",
        "\n",
        "# set number of edge to 0\n",
        "no_edge = 0\n",
        "\n",
        "visited[0] = True\n",
        "count=0\n",
        "while (no_edge < V - 1):\n",
        "    # For every vertex in the set S, find the all adjacent vertices\n",
        "    #, calculate the distance from the vertex selected at step 1.\n",
        "    # if the vertex is already in the set S, discard it otherwise\n",
        "    # choose another vertex nearest to selected vertex  at step 1.\n",
        "    minimum = INF\n",
        "    x = 0\n",
        "    y = 0\n",
        "    for i in range(V):\n",
        "        if visited[i]:\n",
        "            for j in range(V):\n",
        "                # not in Visited and there is an edge (weight is not 0)\n",
        "                count+=1\n",
        "                \n",
        "                if ((not visited[j]) and G[i][j]): \n",
        "                    # print(f\" G [i][j] = {G[i][j]}\") \n",
        "                    \n",
        "                    if minimum > G[i][j]:\n",
        "                        minimum = G[i][j]\n",
        "                        x = i\n",
        "                        y = j\n",
        "\n",
        "\n",
        "    print(str(x) + \"-\" + str(y) + \":\" + str(G[x][y]))\n",
        "    visited[y] = True\n",
        "    no_edge += 1\n",
        "\n",
        "print(f\"count : {count}\")\n",
        "\n"
      ],
      "execution_count": null,
      "outputs": [
        {
          "output_type": "stream",
          "text": [
            "0-1:7\n",
            "1-3:3\n",
            "3-4:3\n",
            "4-2:2\n",
            "4-5:2\n",
            "count : 90\n"
          ],
          "name": "stdout"
        }
      ]
    },
    {
      "cell_type": "markdown",
      "metadata": {
        "id": "oIgB2IAxZs5Z"
      },
      "source": [
        "### **Kruskal's algorithm**"
      ]
    },
    {
      "cell_type": "code",
      "metadata": {
        "colab": {
          "base_uri": "https://localhost:8080/"
        },
        "id": "Yb5DeEnEcHjk",
        "outputId": "24fa9113-4fd0-407f-dc81-ba69cb66ebb2"
      },
      "source": [
        "# Kruskal's algorithm\n",
        "\n",
        "class Graph:\n",
        "    def __init__(self, vertices):\n",
        "        self.V = vertices\n",
        "        self.graph = []\n",
        "\n",
        "    def add_edge(self, u, v, w):\n",
        "        self.graph.append([u, v, w])\n",
        "\n",
        "    # Search function\n",
        "    #parent, 5\n",
        "    #parent[5] (2) == 5\n",
        "    #find(parent,2)\n",
        "\n",
        "    #parent, 2\n",
        "    #parent[2] (1) == 2\n",
        "    #find(parent,1)\n",
        "\n",
        "    #parent, 1\n",
        "    #parent[1] (1) == 1\n",
        "    \n",
        "    def find(self, parent, i):\n",
        "        if parent[i] == i:\n",
        "            return i\n",
        "        return self.find(parent, parent[i])\n",
        "\n",
        "    def apply_union(self, parent, rank, x, y):\n",
        "        xroot = self.find(parent, x) #1 => 1\n",
        "        yroot = self.find(parent, y) #2 => 2\n",
        "        if rank[xroot] < rank[yroot]:\n",
        "            parent[xroot] = yroot\n",
        "        elif rank[xroot] > rank[yroot]: #rank[2] > rank[5]\n",
        "            parent[yroot] = xroot\n",
        "        else:\n",
        "            parent[yroot] = xroot\n",
        "            rank[xroot] += 1\n",
        "\n",
        "    #  Applying Kruskal algorithm\n",
        "    def kruskal_algo(self):\n",
        "        result = []\n",
        "        i, e = 0, 0\n",
        "        self.graph = sorted(self.graph, key=lambda item: item[2]) #e log e\n",
        "        parent = []\n",
        "        rank = []\n",
        "        for node in range(self.V):\n",
        "            parent.append(node)\n",
        "            rank.append(0)\n",
        "\n",
        "        print(f\"Graph {self.graph}\")\n",
        "        print(f\"parent at start {parent}\")\n",
        "        print(f\"rank at start {rank}\")\n",
        "        \n",
        "        while e < self.V - 1: #5 < 5 #E log v\n",
        "            u, v, w = self.graph[i] #7 0,1,7\n",
        "            i = i + 1\n",
        "            \n",
        "            x = self.find(parent, u) #0 =>0\n",
        "            y = self.find(parent, v) #1 =>1\n",
        "            print(f\" x : {x}, y: {y}  , u : {u} v : {v} \")\n",
        "\n",
        "            print (f\"Before:  parent : {parent}, rank : {rank} \")\n",
        "            if x != y:\n",
        "                e = e + 1\n",
        "                result.append([u, v, w])\n",
        "                self.apply_union(parent, rank, x, y)\n",
        "            print (f\"After:   parent : {parent}, rank : {rank} \\n\")\n",
        "\n",
        "\n",
        "        for u, v, weight in result:\n",
        "            print(\"%d - %d: %d\" % (u, v, weight))\n",
        "# ElogE + ElogV = > O(E log E)\n",
        "\n",
        "g = Graph(6)\n",
        "\n",
        "g.add_edge(2, 4, 2)\n",
        "g.add_edge(4, 5, 2)\n",
        "# g.add_edge(1, 4, 3)\n",
        "g.add_edge(1, 3, 3)\n",
        "\n",
        "\n",
        "g.add_edge(3, 4, 3)\n",
        "g.add_edge(2, 3, 4)\n",
        "g.add_edge(2, 5, 5)\n",
        "\n",
        "g.add_edge(1, 2, 6)\n",
        "g.add_edge(0, 1, 7)\n",
        "g.add_edge(0, 3, 8)\n",
        "\n",
        "g.kruskal_algo()"
      ],
      "execution_count": null,
      "outputs": [
        {
          "output_type": "stream",
          "text": [
            "Graph [[2, 4, 2], [4, 5, 2], [1, 3, 3], [3, 4, 3], [2, 3, 4], [2, 5, 5], [1, 2, 6], [0, 1, 7], [0, 3, 8]]\n",
            "parent at start [0, 1, 2, 3, 4, 5]\n",
            "rank at start [0, 0, 0, 0, 0, 0]\n",
            " x : 2, y: 4  , u : 2 v : 4 \n",
            "Before:  parent : [0, 1, 2, 3, 4, 5], rank : [0, 0, 0, 0, 0, 0] \n",
            "After:   parent : [0, 1, 2, 3, 2, 5], rank : [0, 0, 1, 0, 0, 0] \n",
            "\n",
            " x : 2, y: 5  , u : 4 v : 5 \n",
            "Before:  parent : [0, 1, 2, 3, 2, 5], rank : [0, 0, 1, 0, 0, 0] \n",
            "After:   parent : [0, 1, 2, 3, 2, 2], rank : [0, 0, 1, 0, 0, 0] \n",
            "\n",
            " x : 1, y: 3  , u : 1 v : 3 \n",
            "Before:  parent : [0, 1, 2, 3, 2, 2], rank : [0, 0, 1, 0, 0, 0] \n",
            "After:   parent : [0, 1, 2, 1, 2, 2], rank : [0, 1, 1, 0, 0, 0] \n",
            "\n",
            " x : 1, y: 2  , u : 3 v : 4 \n",
            "Before:  parent : [0, 1, 2, 1, 2, 2], rank : [0, 1, 1, 0, 0, 0] \n",
            "After:   parent : [0, 1, 1, 1, 2, 2], rank : [0, 2, 1, 0, 0, 0] \n",
            "\n",
            " x : 1, y: 1  , u : 2 v : 3 \n",
            "Before:  parent : [0, 1, 1, 1, 2, 2], rank : [0, 2, 1, 0, 0, 0] \n",
            "After:   parent : [0, 1, 1, 1, 2, 2], rank : [0, 2, 1, 0, 0, 0] \n",
            "\n",
            " x : 1, y: 1  , u : 2 v : 5 \n",
            "Before:  parent : [0, 1, 1, 1, 2, 2], rank : [0, 2, 1, 0, 0, 0] \n",
            "After:   parent : [0, 1, 1, 1, 2, 2], rank : [0, 2, 1, 0, 0, 0] \n",
            "\n",
            " x : 1, y: 1  , u : 1 v : 2 \n",
            "Before:  parent : [0, 1, 1, 1, 2, 2], rank : [0, 2, 1, 0, 0, 0] \n",
            "After:   parent : [0, 1, 1, 1, 2, 2], rank : [0, 2, 1, 0, 0, 0] \n",
            "\n",
            " x : 0, y: 1  , u : 0 v : 1 \n",
            "Before:  parent : [0, 1, 1, 1, 2, 2], rank : [0, 2, 1, 0, 0, 0] \n",
            "After:   parent : [1, 1, 1, 1, 2, 2], rank : [0, 2, 1, 0, 0, 0] \n",
            "\n",
            "2 - 4: 2\n",
            "4 - 5: 2\n",
            "1 - 3: 3\n",
            "3 - 4: 3\n",
            "0 - 1: 7\n"
          ],
          "name": "stdout"
        }
      ]
    },
    {
      "cell_type": "code",
      "metadata": {
        "id": "FXHfoqUOcGfj"
      },
      "source": [
        ""
      ],
      "execution_count": null,
      "outputs": []
    }
  ]
}